{
 "cells": [
  {
   "cell_type": "markdown",
   "metadata": {},
   "source": [
    "## Este notebook genera la limpieza de las fuentes de It cloud del CRM, eventos y Facturacion desde el año 2013-2020 y genera un archivo consolidado de las 3 fuentes."
   ]
  },
  {
   "cell_type": "markdown",
   "metadata": {},
   "source": [
    "###### Este notebook fue creado por Francy Pineda estudiante de Maestria MINE 2018"
   ]
  },
  {
   "cell_type": "markdown",
   "metadata": {},
   "source": [
    "###### Se importan librerias necesarias"
   ]
  },
  {
   "cell_type": "code",
   "execution_count": 161,
   "metadata": {
    "collapsed": true
   },
   "outputs": [],
   "source": [
    "import pandas as pd\n",
    "import numpy as np\n",
    "import matplotlib\n",
    "from matplotlib import pyplot as plt\n",
    "%matplotlib inline\n",
    "matplotlib.style.use('ggplot')\n",
    "import seaborn as sns\n",
    "import os\n",
    "from dateutil.parser import parse\n",
    "pd.options.display.max_rows = 350\n",
    "pd.options.display.max_columns = 350\n",
    "from scipy import stats\n"
   ]
  },
  {
   "cell_type": "markdown",
   "metadata": {},
   "source": [
    "##### Fuentes crm_clientes y eventos"
   ]
  },
  {
   "cell_type": "code",
   "execution_count": 162,
   "metadata": {},
   "outputs": [
    {
     "name": "stdout",
     "output_type": "stream",
     "text": [
      "D:\\MINE\\ProyectoFinalMINE\\Datos\\crm_eventos\n"
     ]
    }
   ],
   "source": [
    "#%cd /home/xubuntu/Documents/ProyectoFinalMINE/Datos/crm_eventos\n",
    "%cd D:\\MINE\\ProyectoFinalMINE\\Datos\\crm_eventos\n",
    "crm_eventos = pd.read_excel('eventos_del_crm.xlsx')"
   ]
  },
  {
   "cell_type": "code",
   "execution_count": 163,
   "metadata": {},
   "outputs": [
    {
     "name": "stdout",
     "output_type": "stream",
     "text": [
      "D:\\MINE\\ProyectoFinalMINE\\Datos\\Fuentes Usadas Tableau\\salidas\n"
     ]
    }
   ],
   "source": [
    "#Se usa la salida de campos estandarizados del CRM completo, ciudad y prioridad\n",
    "#%cd /home/xubuntu/Documents/ProyectoFinalMINE/Datos/Salidas\n",
    "%cd D:\\MINE\\ProyectoFinalMINE\\Datos\\Fuentes Usadas Tableau\\salidas\n",
    "crm_clientes = pd.read_excel('crm_clientes_sector_v2.xlsx')"
   ]
  },
  {
   "cell_type": "markdown",
   "metadata": {},
   "source": [
    "##### Fuentes Facturacion 2013"
   ]
  },
  {
   "cell_type": "code",
   "execution_count": 164,
   "metadata": {},
   "outputs": [
    {
     "name": "stdout",
     "output_type": "stream",
     "text": [
      "D:\\MINE\\ProyectoFinalMINE\\Datos\\facturacion\\2013\n"
     ]
    }
   ],
   "source": [
    "#%cd   /home/xubuntu/Documents/ProyectoFinalMINE/Datos/facturacion/2013\n",
    "% cd D:\\MINE\\ProyectoFinalMINE\\Datos\\facturacion\\2013\n",
    "facturacion_julio_2013 = pd.read_excel('Julio2013.xls')\n",
    "facturacion_agosto_2013 = pd.read_excel('Agosto2013.xls')\n",
    "facturacion_septiembre_2013 = pd.read_excel('Septiembre2013.xls')\n",
    "facturacion_octubre_2013 = pd.read_excel('Octubre2013.xls')\n",
    "facturacion_noviembre_2013 = pd.read_excel('Novimbre2013.xls')\n",
    "facturacion_diciembre_2013 = pd.read_excel('Diciembre2013.xls')"
   ]
  },
  {
   "cell_type": "markdown",
   "metadata": {},
   "source": [
    "##### Fuentes Facturacion 2014"
   ]
  },
  {
   "cell_type": "code",
   "execution_count": 165,
   "metadata": {},
   "outputs": [
    {
     "name": "stdout",
     "output_type": "stream",
     "text": [
      "D:\\MINE\\ProyectoFinalMINE\\Datos\\facturacion\\2014\n"
     ]
    }
   ],
   "source": [
    "#%cd   /home/xubuntu/Documents/ProyectoFinalMINE/Datos/facturacion/2014\n",
    "% cd D:\\MINE\\ProyectoFinalMINE\\Datos\\facturacion\\2014\n",
    "facturacion_enero_2014 = pd.read_excel('Enero 2014.xls')\n",
    "facturacion_febrero_2014 = pd.read_excel('febrero 2014.xls')\n",
    "facturacion_marzo_2014 = pd.read_excel('Marzo2014.xls')\n",
    "facturacion_abril_2014 = pd.read_excel('Abril2014.xls')\n",
    "facturacion_mayo_2014 = pd.read_excel('mayo2014.xls')\n",
    "facturacion_junio_2014 = pd.read_excel('junio2014.xls')\n",
    "facturacion_julio_2014 = pd.read_excel('julio2014.xls')\n",
    "facturacion_agosto_2014 = pd.read_excel('Agosto2014.xls')\n",
    "facturacion_septiembre_2014 = pd.read_excel('Septiembre2014.xls')\n",
    "facturacion_octubre_2014 = pd.read_excel('Octubre2014.xls')\n",
    "facturacion_noviembre_2014 = pd.read_excel('noviembre2014.xls')\n",
    "facturacion_diciembre_2014 = pd.read_excel('Diciembre2014.xls')"
   ]
  },
  {
   "cell_type": "markdown",
   "metadata": {},
   "source": [
    "##### Fuentes Facturacion 2015"
   ]
  },
  {
   "cell_type": "code",
   "execution_count": 166,
   "metadata": {},
   "outputs": [
    {
     "name": "stdout",
     "output_type": "stream",
     "text": [
      "D:\\MINE\\ProyectoFinalMINE\\Datos\\facturacion\\2015\n"
     ]
    }
   ],
   "source": [
    "#%cd /home/xubuntu/Documents/ProyectoFinalMINE/Datos/facturacion/2015\n",
    "% cd D:\\MINE\\ProyectoFinalMINE\\Datos\\facturacion\\2015\n",
    "facturacion_enero_2015 = pd.read_excel('Enero2015.xls')\n",
    "facturacion_febrero_2015 = pd.read_excel('Febrero2015.xls')\n",
    "facturacion_marzo_2015 = pd.read_excel('Marzo2015.xls')\n",
    "facturacion_abril_2015 = pd.read_excel('Abril2015.xls')\n",
    "facturacion_mayo_2015 = pd.read_excel('Mayo2015.xls')\n",
    "facturacion_junio_2015 = pd.read_excel('Junio2015.xls')\n",
    "facturacion_julio_2015 = pd.read_excel('Julio2015.xls')\n",
    "facturacion_agosto_2015 = pd.read_excel('Agosto2015.xls')\n",
    "facturacion_septiembre_2015 = pd.read_excel('Septiembre2015.xls')\n",
    "facturacion_octubre_2015 = pd.read_excel('Octubre2015.xls')\n",
    "facturacion_noviembre_2015 = pd.read_excel('Noviembre2015.xls')\n",
    "facturacion_diciembre_2015 = pd.read_excel('Diciembre2015.xls')"
   ]
  },
  {
   "cell_type": "markdown",
   "metadata": {},
   "source": [
    "##### Fuentes Facturacion 2016"
   ]
  },
  {
   "cell_type": "code",
   "execution_count": 167,
   "metadata": {},
   "outputs": [
    {
     "name": "stdout",
     "output_type": "stream",
     "text": [
      "D:\\MINE\\ProyectoFinalMINE\\Datos\\facturacion\\2016\n"
     ]
    }
   ],
   "source": [
    "#%cd   /home/xubuntu/Documents/ProyectoFinalMINE/Datos/facturacion/2016\n",
    "% cd D:\\MINE\\ProyectoFinalMINE\\Datos\\facturacion\\2016\n",
    "facturacion_enero_2016 = pd.read_excel('Enero2016.xls')\n",
    "facturacion_febrero_2016 = pd.read_excel('Febrero2016.xls')\n",
    "facturacion_marzo_2016 = pd.read_excel('MArzo2016.xls')\n",
    "facturacion_abril_2016 = pd.read_excel('Abril2016.xls')\n",
    "facturacion_mayo_2016 = pd.read_excel('MAyo2016.xls')\n",
    "facturacion_junio_2016 = pd.read_excel('junio2016.xls')\n",
    "facturacion_julio_2016 = pd.read_excel('Julio2016.xls')\n",
    "facturacion_agosto_2016 = pd.read_excel('Agosto2016.xls')\n",
    "facturacion_septiembre_2016 = pd.read_excel('Septiembre2016.xls')\n",
    "facturacion_octubre_2016 = pd.read_excel('Octubre2016.xls')\n",
    "facturacion_noviembre_2016 = pd.read_excel('Noviembre2016.xls')\n",
    "facturacion_diciembre_2016 = pd.read_excel('Diciembre2016.xls')"
   ]
  },
  {
   "cell_type": "markdown",
   "metadata": {},
   "source": [
    "##### Fuentes Facturacion 2017"
   ]
  },
  {
   "cell_type": "code",
   "execution_count": 168,
   "metadata": {},
   "outputs": [
    {
     "name": "stdout",
     "output_type": "stream",
     "text": [
      "D:\\MINE\\ProyectoFinalMINE\\Datos\\facturacion\\2017\n"
     ]
    }
   ],
   "source": [
    "#%cd    /home/xubuntu/Documents/ProyectoFinalMINE/Datos/facturacion/2017\n",
    "% cd D:\\MINE\\ProyectoFinalMINE\\Datos\\facturacion\\2017\n",
    "facturacion_enero_2017 = pd.read_excel('Enero2017.xls')\n",
    "facturacion_febrero_2017 = pd.read_excel('Febrero2017.xls')\n",
    "facturacion_marzo_2017 = pd.read_excel('Marzo2017.xls')\n",
    "facturacion_abril_2017 = pd.read_excel('Abril2017.xls')\n",
    "facturacion_mayo_2017 = pd.read_excel('Mayo2017.xls')\n",
    "facturacion_junio_2017 = pd.read_excel('Junio2017.xls')\n",
    "facturacion_julio_2017 = pd.read_excel('Julio2017.xls')\n",
    "facturacion_agosto_2017 = pd.read_excel('Agosto2017.xls')\n",
    "facturacion_septiembre_2017 = pd.read_excel('Septiembre2017.xls')\n",
    "facturacion_octubre_2017 = pd.read_excel('Octubre2017.xls')\n",
    "facturacion_noviembre_2017 = pd.read_excel('Noviembre2017.xls')\n",
    "facturacion_diciembre_2017 = pd.read_excel('Diciembre2017.xls')"
   ]
  },
  {
   "cell_type": "markdown",
   "metadata": {},
   "source": [
    "##### Fuentes Facturacion 2018"
   ]
  },
  {
   "cell_type": "code",
   "execution_count": 169,
   "metadata": {},
   "outputs": [
    {
     "name": "stdout",
     "output_type": "stream",
     "text": [
      "D:\\MINE\\ProyectoFinalMINE\\Datos\\facturacion\\2018\n"
     ]
    }
   ],
   "source": [
    "#%cd /home/xubuntu/Documents/ProyectoFinalMINE/Datos/facturacion/2018\n",
    "% cd D:\\MINE\\ProyectoFinalMINE\\Datos\\facturacion\\2018\n",
    "facturacion_enero_2018 = pd.read_excel('Enero2018.xls')\n",
    "facturacion_febrero_2018 = pd.read_excel('Febrero2018.xls')\n",
    "facturacion_marzo_2018 = pd.read_excel('Marzo2018.xls')\n",
    "facturacion_abril_2018 = pd.read_excel('Abril2018.xls')\n",
    "facturacion_mayo_2018 = pd.read_excel('Mayo2018.xls')\n",
    "facturacion_junio_2018 = pd.read_excel('Junio2018.xls')\n",
    "facturacion_julio_2018 = pd.read_excel('Julio2018.xls')\n",
    "facturacion_agosto_2018 = pd.read_excel('Agosto2018.xls')\n",
    "facturacion_septiembre_2018 = pd.read_excel('Septiembre2018.xls')\n",
    "facturacion_octubre_2018 = pd.read_excel('Octubre2018.xls')\n",
    "facturacion_noviembre_2018 = pd.read_excel('Noviembre2018.xls')\n",
    "facturacion_diciembre_2018 = pd.read_excel('Diciembre2018.xls')"
   ]
  },
  {
   "cell_type": "markdown",
   "metadata": {},
   "source": [
    "##### Fuentes Facturacion 2019"
   ]
  },
  {
   "cell_type": "code",
   "execution_count": 170,
   "metadata": {},
   "outputs": [
    {
     "name": "stdout",
     "output_type": "stream",
     "text": [
      "D:\\MINE\\ProyectoFinalMINE\\Datos\\facturacion\\2019\n"
     ]
    }
   ],
   "source": [
    "#%cd     /home/xubuntu/Documents/ProyectoFinalMINE/Datos/facturacion/2019\n",
    "% cd D:\\MINE\\ProyectoFinalMINE\\Datos\\facturacion\\2019\n",
    "facturacion_enero_2019 = pd.read_excel('Enero2019.xls')\n",
    "facturacion_febrero_2019 = pd.read_excel('Febrero2019.xls')\n",
    "facturacion_marzo_2019 = pd.read_excel('Marzo2019.xls')\n",
    "facturacion_abril_2019 = pd.read_excel('Abril2019.xls')\n",
    "facturacion_mayo_2019 = pd.read_excel('Mayo2019.xls')\n",
    "facturacion_junio_2019 = pd.read_excel('Junio2019.xls')\n",
    "facturacion_julio_2019 = pd.read_excel('Julio2019.xls')\n",
    "facturacion_agosto_2019 = pd.read_excel('Agosto2019.xls')\n",
    "facturacion_septiembre_2019 = pd.read_excel('Septiembre2019.xls')\n",
    "facturacion_octubre_2019 = pd.read_excel('Octubre2019.xls')\n",
    "facturacion_noviembre_2019 = pd.read_excel('Noviembre2019.xls')\n",
    "facturacion_diciembre_2019 = pd.read_excel('Diciembre2019.xls')"
   ]
  },
  {
   "cell_type": "markdown",
   "metadata": {},
   "source": [
    "##### Fuentes Facturacion 2020"
   ]
  },
  {
   "cell_type": "code",
   "execution_count": 171,
   "metadata": {},
   "outputs": [
    {
     "name": "stdout",
     "output_type": "stream",
     "text": [
      "D:\\MINE\\ProyectoFinalMINE\\Datos\\facturacion\\2020\n"
     ]
    }
   ],
   "source": [
    "#%cd     /home/xubuntu/Documents/ProyectoFinalMINE/Datos/facturacion/2020\n",
    "% cd D:\\MINE\\ProyectoFinalMINE\\Datos\\facturacion\\2020\n",
    "facturacion_enero_2020 = pd.read_excel('Enero2020.xls')\n",
    "facturacion_febrero_2020 = pd.read_excel('Febrero2020.xls')\n",
    "facturacion_marzo_2020 = pd.read_excel('Marzo2020.xls')\n",
    "facturacion_abril_2020 = pd.read_excel('Abril2020.xls')\n",
    "facturacion_mayo_2020 = pd.read_excel('Mayo2020.xls')\n",
    "facturacion_junio_2020 = pd.read_excel('Junio2020.xls')\n",
    "facturacion_julio_2020 = pd.read_excel('Julio2020.xls')\n",
    "facturacion_agosto_2020 = pd.read_excel('Agosto2020.xls')\n",
    "facturacion_septiembre_2020 = pd.read_excel('Septiembre2020.xls')\n",
    "facturacion_octubre_2020 = pd.read_excel('Octubre2020.xls')\n",
    "facturacion_noviembre_2020 = pd.read_excel('Noviembre2020.xls')\n",
    "facturacion_diciembre_2020 = pd.read_excel('Diciembre2020.xls')"
   ]
  },
  {
   "cell_type": "markdown",
   "metadata": {},
   "source": [
    "##### CONCATENANDO LAS FUENTES DE FACTURACION POR AÑO"
   ]
  },
  {
   "cell_type": "code",
   "execution_count": 172,
   "metadata": {
    "collapsed": true
   },
   "outputs": [],
   "source": [
    "frames20 = [facturacion_enero_2020,facturacion_febrero_2020,facturacion_marzo_2020,facturacion_abril_2020 ,facturacion_mayo_2020 ,facturacion_junio_2020,facturacion_julio_2020,facturacion_agosto_2020,facturacion_septiembre_2020,facturacion_octubre_2020,facturacion_noviembre_2020,facturacion_diciembre_2020 ] \n",
    "frames19 = [facturacion_enero_2019,facturacion_febrero_2019,facturacion_marzo_2019,facturacion_abril_2019 ,facturacion_mayo_2019 ,facturacion_junio_2019,facturacion_julio_2019,facturacion_agosto_2019,facturacion_septiembre_2019,facturacion_octubre_2019,facturacion_noviembre_2019,facturacion_diciembre_2019 ]\n",
    "frames18 = [facturacion_enero_2018,facturacion_febrero_2018,facturacion_marzo_2018,facturacion_abril_2018 ,facturacion_mayo_2018 ,facturacion_junio_2018,facturacion_julio_2018,facturacion_agosto_2018,facturacion_septiembre_2018,facturacion_octubre_2018,facturacion_noviembre_2018,facturacion_diciembre_2018 ]\n",
    "frames17 = [facturacion_enero_2017,facturacion_febrero_2017,facturacion_marzo_2017,facturacion_abril_2017 ,facturacion_mayo_2017 ,facturacion_junio_2017,facturacion_julio_2017,facturacion_agosto_2017,facturacion_septiembre_2017,facturacion_octubre_2017,facturacion_noviembre_2017,facturacion_diciembre_2017 ] \n",
    "frames16 = [facturacion_enero_2016,facturacion_febrero_2016,facturacion_marzo_2016,facturacion_abril_2016 ,facturacion_mayo_2016 ,facturacion_junio_2016,facturacion_julio_2016,facturacion_agosto_2016,facturacion_septiembre_2016,facturacion_octubre_2016,facturacion_noviembre_2016,facturacion_diciembre_2016 ]\n",
    "frames15 = [facturacion_enero_2015,facturacion_febrero_2015,facturacion_marzo_2015,facturacion_abril_2015 ,facturacion_mayo_2015 ,facturacion_junio_2015,facturacion_julio_2015,facturacion_agosto_2015,facturacion_septiembre_2015,facturacion_octubre_2015,facturacion_noviembre_2015,facturacion_diciembre_2015 ]\n",
    "frames14 = [facturacion_enero_2014,facturacion_febrero_2014,facturacion_marzo_2014,facturacion_abril_2014 ,facturacion_mayo_2014 ,facturacion_junio_2014,facturacion_julio_2014,facturacion_agosto_2014,facturacion_septiembre_2014,facturacion_octubre_2014,facturacion_noviembre_2014,facturacion_diciembre_2014 ]\n",
    "frames13 = [facturacion_julio_2013,facturacion_agosto_2013,facturacion_septiembre_2013,facturacion_octubre_2013,facturacion_noviembre_2013,facturacion_diciembre_2013 ]\n",
    "\n",
    "fact_2020 = pd.concat(frames20)\n",
    "fact_2019 = pd.concat(frames19)\n",
    "fact_2018 = pd.concat(frames18)\n",
    "fact_2017 = pd.concat(frames17)\n",
    "fact_2016 = pd.concat(frames16)\n",
    "fact_2015 = pd.concat(frames15)\n",
    "fact_2014 = pd.concat(frames14)\n",
    "fact_2013 = pd.concat(frames13)\n",
    "frames=[fact_2013,fact_2014,fact_2015,fact_2016,fact_2017,fact_2018,fact_2019,fact_2020]\n",
    "facturacion_total = pd.concat(frames) # Contiene toda la informacion de facturacion"
   ]
  },
  {
   "cell_type": "code",
   "execution_count": 175,
   "metadata": {},
   "outputs": [
    {
     "data": {
      "text/plain": [
       "452"
      ]
     },
     "execution_count": 175,
     "metadata": {},
     "output_type": "execute_result"
    }
   ],
   "source": [
    "facturacion_total[\"Correos Electrónicos Cliente\"].nunique()"
   ]
  },
  {
   "cell_type": "code",
   "execution_count": 110,
   "metadata": {},
   "outputs": [
    {
     "name": "stdout",
     "output_type": "stream",
     "text": [
      "D:\\MINE\\ProyectoFinalMINE\\Datos\\Fuentes Usadas Tableau\\salidas\n"
     ]
    }
   ],
   "source": [
    "#%cd     /home/xubuntu/Documents/ProyectoFinalMINE/Datos/Salidas\n",
    "%cd D:\\MINE\\ProyectoFinalMINE\\Datos\\Fuentes Usadas Tableau\\salidas\n",
    "facturacion_total.to_excel(\"facturacion_completa.xlsx\")"
   ]
  },
  {
   "cell_type": "code",
   "execution_count": 111,
   "metadata": {},
   "outputs": [
    {
     "data": {
      "text/html": [
       "<div>\n",
       "<style>\n",
       "    .dataframe thead tr:only-child th {\n",
       "        text-align: right;\n",
       "    }\n",
       "\n",
       "    .dataframe thead th {\n",
       "        text-align: left;\n",
       "    }\n",
       "\n",
       "    .dataframe tbody tr th {\n",
       "        vertical-align: top;\n",
       "    }\n",
       "</style>\n",
       "<table border=\"1\" class=\"dataframe\">\n",
       "  <thead>\n",
       "    <tr style=\"text-align: right;\">\n",
       "      <th></th>\n",
       "      <th>Tipo Doc.</th>\n",
       "      <th>Pre</th>\n",
       "      <th>No. Doc.</th>\n",
       "      <th>Orden/Lugar Entrega</th>\n",
       "      <th>ID Empresa</th>\n",
       "      <th>Tipo de Factura</th>\n",
       "      <th>Estado</th>\n",
       "      <th>ID. Cliente</th>\n",
       "      <th>ID. Int. Cliente</th>\n",
       "      <th>ID Interno</th>\n",
       "      <th>Nombre del Cliente</th>\n",
       "      <th>Año</th>\n",
       "      <th>Mes</th>\n",
       "      <th>Fecha Exp.</th>\n",
       "      <th>Fecha Hora Generación</th>\n",
       "      <th>Moneda</th>\n",
       "      <th>Vendedor</th>\n",
       "      <th>Cód. Vendedor</th>\n",
       "      <th>SubTotal</th>\n",
       "      <th>IVA</th>\n",
       "      <th>Descuento</th>\n",
       "      <th>Otros</th>\n",
       "      <th>Total Retención</th>\n",
       "      <th>Total</th>\n",
       "      <th>Total A Pagar</th>\n",
       "      <th>Ver</th>\n",
       "      <th>Ver.1</th>\n",
       "      <th>Estado Notificación</th>\n",
       "      <th>Teléfono</th>\n",
       "      <th>Correos Electrónicos Cliente</th>\n",
       "      <th>Correos Electrónicos Enviados</th>\n",
       "    </tr>\n",
       "  </thead>\n",
       "  <tbody>\n",
       "    <tr>\n",
       "      <th>0</th>\n",
       "      <td>Factura</td>\n",
       "      <td>IT</td>\n",
       "      <td>3.0</td>\n",
       "      <td>NaN</td>\n",
       "      <td>98.0</td>\n",
       "      <td>Electrónica</td>\n",
       "      <td>Anulada</td>\n",
       "      <td>9.00227e+08</td>\n",
       "      <td>9.00227e+08</td>\n",
       "      <td>9.00227e+08</td>\n",
       "      <td>Contact Center Colombia C3 SAS</td>\n",
       "      <td>2013.0</td>\n",
       "      <td>7.0</td>\n",
       "      <td>2013-07-22</td>\n",
       "      <td>2013-07-22 19:38:35.820</td>\n",
       "      <td>COP</td>\n",
       "      <td>Indefinido</td>\n",
       "      <td>NaN</td>\n",
       "      <td>900000.0</td>\n",
       "      <td>144000.0</td>\n",
       "      <td>0.0</td>\n",
       "      <td>0.0</td>\n",
       "      <td>0.0</td>\n",
       "      <td>1044000.0</td>\n",
       "      <td>NaN</td>\n",
       "      <td>322926.0</td>\n",
       "      <td>322926.0</td>\n",
       "      <td>NaN</td>\n",
       "      <td>4.86202e+06</td>\n",
       "      <td>aduenas@c3colombia.com</td>\n",
       "      <td>NaN</td>\n",
       "    </tr>\n",
       "    <tr>\n",
       "      <th>1</th>\n",
       "      <td>Factura</td>\n",
       "      <td>IT</td>\n",
       "      <td>2.0</td>\n",
       "      <td>NaN</td>\n",
       "      <td>98.0</td>\n",
       "      <td>Electrónica</td>\n",
       "      <td>Entregada</td>\n",
       "      <td>9.00227e+08</td>\n",
       "      <td>9.00227e+08</td>\n",
       "      <td>9.00227e+08</td>\n",
       "      <td>Contact Center Colombia C3 SAS</td>\n",
       "      <td>2013.0</td>\n",
       "      <td>7.0</td>\n",
       "      <td>2013-07-19</td>\n",
       "      <td>2013-07-19 21:11:20.777</td>\n",
       "      <td>COP</td>\n",
       "      <td>Wilson Rojas P</td>\n",
       "      <td>NaN</td>\n",
       "      <td>11353185.0</td>\n",
       "      <td>1816509.6</td>\n",
       "      <td>0.0</td>\n",
       "      <td>0.0</td>\n",
       "      <td>0.0</td>\n",
       "      <td>13169694.6</td>\n",
       "      <td>NaN</td>\n",
       "      <td>322065.0</td>\n",
       "      <td>322065.0</td>\n",
       "      <td>NaN</td>\n",
       "      <td>4.86202e+06</td>\n",
       "      <td>aduenas@c3colombia.com</td>\n",
       "      <td>NaN</td>\n",
       "    </tr>\n",
       "  </tbody>\n",
       "</table>\n",
       "</div>"
      ],
      "text/plain": [
       "  Tipo Doc. Pre  No. Doc.  Orden/Lugar Entrega  ID Empresa Tipo de Factura  \\\n",
       "0   Factura  IT       3.0                  NaN        98.0     Electrónica   \n",
       "1   Factura  IT       2.0                  NaN        98.0     Electrónica   \n",
       "\n",
       "      Estado  ID. Cliente ID. Int. Cliente   ID Interno  \\\n",
       "0    Anulada  9.00227e+08      9.00227e+08  9.00227e+08   \n",
       "1  Entregada  9.00227e+08      9.00227e+08  9.00227e+08   \n",
       "\n",
       "               Nombre del Cliente     Año  Mes Fecha Exp.  \\\n",
       "0  Contact Center Colombia C3 SAS  2013.0  7.0 2013-07-22   \n",
       "1  Contact Center Colombia C3 SAS  2013.0  7.0 2013-07-19   \n",
       "\n",
       "    Fecha Hora Generación Moneda        Vendedor  Cód. Vendedor    SubTotal  \\\n",
       "0 2013-07-22 19:38:35.820    COP      Indefinido            NaN    900000.0   \n",
       "1 2013-07-19 21:11:20.777    COP  Wilson Rojas P            NaN  11353185.0   \n",
       "\n",
       "         IVA  Descuento  Otros  Total Retención       Total  Total A Pagar  \\\n",
       "0   144000.0        0.0    0.0              0.0   1044000.0            NaN   \n",
       "1  1816509.6        0.0    0.0              0.0  13169694.6            NaN   \n",
       "\n",
       "        Ver     Ver.1 Estado Notificación     Teléfono  \\\n",
       "0  322926.0  322926.0                 NaN  4.86202e+06   \n",
       "1  322065.0  322065.0                 NaN  4.86202e+06   \n",
       "\n",
       "  Correos Electrónicos Cliente Correos Electrónicos Enviados  \n",
       "0       aduenas@c3colombia.com                           NaN  \n",
       "1       aduenas@c3colombia.com                           NaN  "
      ]
     },
     "execution_count": 111,
     "metadata": {},
     "output_type": "execute_result"
    }
   ],
   "source": [
    "facturacion_total.head(2)"
   ]
  },
  {
   "cell_type": "code",
   "execution_count": 112,
   "metadata": {},
   "outputs": [
    {
     "data": {
      "text/plain": [
       "Index(['Tipo Doc.', 'Pre', 'No. Doc.', 'Orden/Lugar Entrega', 'ID Empresa',\n",
       "       'Tipo de Factura', 'Estado', 'ID. Cliente', 'ID. Int. Cliente',\n",
       "       'ID Interno', 'Nombre del Cliente', 'Año', 'Mes', 'Fecha Exp.',\n",
       "       'Fecha Hora Generación', 'Moneda', 'Vendedor', 'Cód. Vendedor',\n",
       "       'SubTotal', 'IVA', 'Descuento', 'Otros', 'Total Retención', 'Total',\n",
       "       'Total A Pagar', 'Ver', 'Ver.1', 'Estado Notificación', 'Teléfono',\n",
       "       'Correos Electrónicos Cliente', 'Correos Electrónicos Enviados'],\n",
       "      dtype='object')"
      ]
     },
     "execution_count": 112,
     "metadata": {},
     "output_type": "execute_result"
    }
   ],
   "source": [
    "facturacion_total.columns"
   ]
  },
  {
   "cell_type": "markdown",
   "metadata": {},
   "source": [
    "## 1. Quitar los espacios adelante y atrás del atributo CORREOS ELECTRONICOS CLIENTES"
   ]
  },
  {
   "cell_type": "code",
   "execution_count": 113,
   "metadata": {
    "collapsed": true
   },
   "outputs": [],
   "source": [
    "facturacion_total['Correos Electrónicos Cliente']  =facturacion_total['Correos Electrónicos Cliente'].str.strip()"
   ]
  },
  {
   "cell_type": "markdown",
   "metadata": {},
   "source": [
    "## 2. Generar el atributo EMAIL simplemente pasando a mayúsculas el atributo Correos Electrónicos Cliente"
   ]
  },
  {
   "cell_type": "code",
   "execution_count": 114,
   "metadata": {},
   "outputs": [],
   "source": [
    "facturacion_total['EMAIL'] =facturacion_total['Correos Electrónicos Cliente'].str.upper()"
   ]
  },
  {
   "cell_type": "code",
   "execution_count": 115,
   "metadata": {},
   "outputs": [
    {
     "data": {
      "text/html": [
       "<div>\n",
       "<style>\n",
       "    .dataframe thead tr:only-child th {\n",
       "        text-align: right;\n",
       "    }\n",
       "\n",
       "    .dataframe thead th {\n",
       "        text-align: left;\n",
       "    }\n",
       "\n",
       "    .dataframe tbody tr th {\n",
       "        vertical-align: top;\n",
       "    }\n",
       "</style>\n",
       "<table border=\"1\" class=\"dataframe\">\n",
       "  <thead>\n",
       "    <tr style=\"text-align: right;\">\n",
       "      <th></th>\n",
       "      <th>Tipo Doc.</th>\n",
       "      <th>Pre</th>\n",
       "      <th>No. Doc.</th>\n",
       "      <th>Orden/Lugar Entrega</th>\n",
       "      <th>ID Empresa</th>\n",
       "      <th>Tipo de Factura</th>\n",
       "      <th>Estado</th>\n",
       "      <th>ID. Cliente</th>\n",
       "      <th>ID. Int. Cliente</th>\n",
       "      <th>ID Interno</th>\n",
       "      <th>Nombre del Cliente</th>\n",
       "      <th>Año</th>\n",
       "      <th>Mes</th>\n",
       "      <th>Fecha Exp.</th>\n",
       "      <th>Fecha Hora Generación</th>\n",
       "      <th>Moneda</th>\n",
       "      <th>Vendedor</th>\n",
       "      <th>Cód. Vendedor</th>\n",
       "      <th>SubTotal</th>\n",
       "      <th>IVA</th>\n",
       "      <th>Descuento</th>\n",
       "      <th>Otros</th>\n",
       "      <th>Total Retención</th>\n",
       "      <th>Total</th>\n",
       "      <th>Total A Pagar</th>\n",
       "      <th>Ver</th>\n",
       "      <th>Ver.1</th>\n",
       "      <th>Estado Notificación</th>\n",
       "      <th>Teléfono</th>\n",
       "      <th>Correos Electrónicos Cliente</th>\n",
       "      <th>Correos Electrónicos Enviados</th>\n",
       "      <th>EMAIL</th>\n",
       "    </tr>\n",
       "  </thead>\n",
       "  <tbody>\n",
       "    <tr>\n",
       "      <th>0</th>\n",
       "      <td>Factura</td>\n",
       "      <td>IT</td>\n",
       "      <td>3.0</td>\n",
       "      <td>NaN</td>\n",
       "      <td>98.0</td>\n",
       "      <td>Electrónica</td>\n",
       "      <td>Anulada</td>\n",
       "      <td>9.00227e+08</td>\n",
       "      <td>9.00227e+08</td>\n",
       "      <td>9.00227e+08</td>\n",
       "      <td>Contact Center Colombia C3 SAS</td>\n",
       "      <td>2013.0</td>\n",
       "      <td>7.0</td>\n",
       "      <td>2013-07-22</td>\n",
       "      <td>2013-07-22 19:38:35.820</td>\n",
       "      <td>COP</td>\n",
       "      <td>Indefinido</td>\n",
       "      <td>NaN</td>\n",
       "      <td>900000.0</td>\n",
       "      <td>144000.0</td>\n",
       "      <td>0.0</td>\n",
       "      <td>0.0</td>\n",
       "      <td>0.0</td>\n",
       "      <td>1044000.0</td>\n",
       "      <td>NaN</td>\n",
       "      <td>322926.0</td>\n",
       "      <td>322926.0</td>\n",
       "      <td>NaN</td>\n",
       "      <td>4.86202e+06</td>\n",
       "      <td>aduenas@c3colombia.com</td>\n",
       "      <td>NaN</td>\n",
       "      <td>ADUENAS@C3COLOMBIA.COM</td>\n",
       "    </tr>\n",
       "    <tr>\n",
       "      <th>1</th>\n",
       "      <td>Factura</td>\n",
       "      <td>IT</td>\n",
       "      <td>2.0</td>\n",
       "      <td>NaN</td>\n",
       "      <td>98.0</td>\n",
       "      <td>Electrónica</td>\n",
       "      <td>Entregada</td>\n",
       "      <td>9.00227e+08</td>\n",
       "      <td>9.00227e+08</td>\n",
       "      <td>9.00227e+08</td>\n",
       "      <td>Contact Center Colombia C3 SAS</td>\n",
       "      <td>2013.0</td>\n",
       "      <td>7.0</td>\n",
       "      <td>2013-07-19</td>\n",
       "      <td>2013-07-19 21:11:20.777</td>\n",
       "      <td>COP</td>\n",
       "      <td>Wilson Rojas P</td>\n",
       "      <td>NaN</td>\n",
       "      <td>11353185.0</td>\n",
       "      <td>1816509.6</td>\n",
       "      <td>0.0</td>\n",
       "      <td>0.0</td>\n",
       "      <td>0.0</td>\n",
       "      <td>13169694.6</td>\n",
       "      <td>NaN</td>\n",
       "      <td>322065.0</td>\n",
       "      <td>322065.0</td>\n",
       "      <td>NaN</td>\n",
       "      <td>4.86202e+06</td>\n",
       "      <td>aduenas@c3colombia.com</td>\n",
       "      <td>NaN</td>\n",
       "      <td>ADUENAS@C3COLOMBIA.COM</td>\n",
       "    </tr>\n",
       "  </tbody>\n",
       "</table>\n",
       "</div>"
      ],
      "text/plain": [
       "  Tipo Doc. Pre  No. Doc.  Orden/Lugar Entrega  ID Empresa Tipo de Factura  \\\n",
       "0   Factura  IT       3.0                  NaN        98.0     Electrónica   \n",
       "1   Factura  IT       2.0                  NaN        98.0     Electrónica   \n",
       "\n",
       "      Estado  ID. Cliente ID. Int. Cliente   ID Interno  \\\n",
       "0    Anulada  9.00227e+08      9.00227e+08  9.00227e+08   \n",
       "1  Entregada  9.00227e+08      9.00227e+08  9.00227e+08   \n",
       "\n",
       "               Nombre del Cliente     Año  Mes Fecha Exp.  \\\n",
       "0  Contact Center Colombia C3 SAS  2013.0  7.0 2013-07-22   \n",
       "1  Contact Center Colombia C3 SAS  2013.0  7.0 2013-07-19   \n",
       "\n",
       "    Fecha Hora Generación Moneda        Vendedor  Cód. Vendedor    SubTotal  \\\n",
       "0 2013-07-22 19:38:35.820    COP      Indefinido            NaN    900000.0   \n",
       "1 2013-07-19 21:11:20.777    COP  Wilson Rojas P            NaN  11353185.0   \n",
       "\n",
       "         IVA  Descuento  Otros  Total Retención       Total  Total A Pagar  \\\n",
       "0   144000.0        0.0    0.0              0.0   1044000.0            NaN   \n",
       "1  1816509.6        0.0    0.0              0.0  13169694.6            NaN   \n",
       "\n",
       "        Ver     Ver.1 Estado Notificación     Teléfono  \\\n",
       "0  322926.0  322926.0                 NaN  4.86202e+06   \n",
       "1  322065.0  322065.0                 NaN  4.86202e+06   \n",
       "\n",
       "  Correos Electrónicos Cliente Correos Electrónicos Enviados  \\\n",
       "0       aduenas@c3colombia.com                           NaN   \n",
       "1       aduenas@c3colombia.com                           NaN   \n",
       "\n",
       "                    EMAIL  \n",
       "0  ADUENAS@C3COLOMBIA.COM  \n",
       "1  ADUENAS@C3COLOMBIA.COM  "
      ]
     },
     "execution_count": 115,
     "metadata": {},
     "output_type": "execute_result"
    }
   ],
   "source": [
    "facturacion_total.head(2)"
   ]
  },
  {
   "cell_type": "code",
   "execution_count": 116,
   "metadata": {
    "collapsed": true
   },
   "outputs": [],
   "source": [
    "facturacion_total_contodos_atributos=facturacion_total"
   ]
  },
  {
   "cell_type": "code",
   "execution_count": 117,
   "metadata": {},
   "outputs": [
    {
     "data": {
      "text/html": [
       "<div>\n",
       "<style>\n",
       "    .dataframe thead tr:only-child th {\n",
       "        text-align: right;\n",
       "    }\n",
       "\n",
       "    .dataframe thead th {\n",
       "        text-align: left;\n",
       "    }\n",
       "\n",
       "    .dataframe tbody tr th {\n",
       "        vertical-align: top;\n",
       "    }\n",
       "</style>\n",
       "<table border=\"1\" class=\"dataframe\">\n",
       "  <thead>\n",
       "    <tr style=\"text-align: right;\">\n",
       "      <th></th>\n",
       "      <th>Tipo Doc.</th>\n",
       "      <th>Pre</th>\n",
       "      <th>No. Doc.</th>\n",
       "      <th>Orden/Lugar Entrega</th>\n",
       "      <th>ID Empresa</th>\n",
       "      <th>Tipo de Factura</th>\n",
       "      <th>Estado</th>\n",
       "      <th>ID. Cliente</th>\n",
       "      <th>ID. Int. Cliente</th>\n",
       "      <th>ID Interno</th>\n",
       "      <th>Nombre del Cliente</th>\n",
       "      <th>Año</th>\n",
       "      <th>Mes</th>\n",
       "      <th>Fecha Exp.</th>\n",
       "      <th>Fecha Hora Generación</th>\n",
       "      <th>Moneda</th>\n",
       "      <th>Vendedor</th>\n",
       "      <th>Cód. Vendedor</th>\n",
       "      <th>SubTotal</th>\n",
       "      <th>IVA</th>\n",
       "      <th>Descuento</th>\n",
       "      <th>Otros</th>\n",
       "      <th>Total Retención</th>\n",
       "      <th>Total</th>\n",
       "      <th>Total A Pagar</th>\n",
       "      <th>Ver</th>\n",
       "      <th>Ver.1</th>\n",
       "      <th>Estado Notificación</th>\n",
       "      <th>Teléfono</th>\n",
       "      <th>Correos Electrónicos Cliente</th>\n",
       "      <th>Correos Electrónicos Enviados</th>\n",
       "      <th>EMAIL</th>\n",
       "    </tr>\n",
       "  </thead>\n",
       "  <tbody>\n",
       "    <tr>\n",
       "      <th>0</th>\n",
       "      <td>Factura</td>\n",
       "      <td>IT</td>\n",
       "      <td>3.0</td>\n",
       "      <td>NaN</td>\n",
       "      <td>98.0</td>\n",
       "      <td>Electrónica</td>\n",
       "      <td>Anulada</td>\n",
       "      <td>9.00227e+08</td>\n",
       "      <td>9.00227e+08</td>\n",
       "      <td>9.00227e+08</td>\n",
       "      <td>Contact Center Colombia C3 SAS</td>\n",
       "      <td>2013.0</td>\n",
       "      <td>7.0</td>\n",
       "      <td>2013-07-22</td>\n",
       "      <td>2013-07-22 19:38:35.820</td>\n",
       "      <td>COP</td>\n",
       "      <td>Indefinido</td>\n",
       "      <td>NaN</td>\n",
       "      <td>900000.0</td>\n",
       "      <td>144000.0</td>\n",
       "      <td>0.0</td>\n",
       "      <td>0.0</td>\n",
       "      <td>0.0</td>\n",
       "      <td>1044000.0</td>\n",
       "      <td>NaN</td>\n",
       "      <td>322926.0</td>\n",
       "      <td>322926.0</td>\n",
       "      <td>NaN</td>\n",
       "      <td>4.86202e+06</td>\n",
       "      <td>aduenas@c3colombia.com</td>\n",
       "      <td>NaN</td>\n",
       "      <td>ADUENAS@C3COLOMBIA.COM</td>\n",
       "    </tr>\n",
       "    <tr>\n",
       "      <th>1</th>\n",
       "      <td>Factura</td>\n",
       "      <td>IT</td>\n",
       "      <td>2.0</td>\n",
       "      <td>NaN</td>\n",
       "      <td>98.0</td>\n",
       "      <td>Electrónica</td>\n",
       "      <td>Entregada</td>\n",
       "      <td>9.00227e+08</td>\n",
       "      <td>9.00227e+08</td>\n",
       "      <td>9.00227e+08</td>\n",
       "      <td>Contact Center Colombia C3 SAS</td>\n",
       "      <td>2013.0</td>\n",
       "      <td>7.0</td>\n",
       "      <td>2013-07-19</td>\n",
       "      <td>2013-07-19 21:11:20.777</td>\n",
       "      <td>COP</td>\n",
       "      <td>Wilson Rojas P</td>\n",
       "      <td>NaN</td>\n",
       "      <td>11353185.0</td>\n",
       "      <td>1816509.6</td>\n",
       "      <td>0.0</td>\n",
       "      <td>0.0</td>\n",
       "      <td>0.0</td>\n",
       "      <td>13169694.6</td>\n",
       "      <td>NaN</td>\n",
       "      <td>322065.0</td>\n",
       "      <td>322065.0</td>\n",
       "      <td>NaN</td>\n",
       "      <td>4.86202e+06</td>\n",
       "      <td>aduenas@c3colombia.com</td>\n",
       "      <td>NaN</td>\n",
       "      <td>ADUENAS@C3COLOMBIA.COM</td>\n",
       "    </tr>\n",
       "  </tbody>\n",
       "</table>\n",
       "</div>"
      ],
      "text/plain": [
       "  Tipo Doc. Pre  No. Doc.  Orden/Lugar Entrega  ID Empresa Tipo de Factura  \\\n",
       "0   Factura  IT       3.0                  NaN        98.0     Electrónica   \n",
       "1   Factura  IT       2.0                  NaN        98.0     Electrónica   \n",
       "\n",
       "      Estado  ID. Cliente ID. Int. Cliente   ID Interno  \\\n",
       "0    Anulada  9.00227e+08      9.00227e+08  9.00227e+08   \n",
       "1  Entregada  9.00227e+08      9.00227e+08  9.00227e+08   \n",
       "\n",
       "               Nombre del Cliente     Año  Mes Fecha Exp.  \\\n",
       "0  Contact Center Colombia C3 SAS  2013.0  7.0 2013-07-22   \n",
       "1  Contact Center Colombia C3 SAS  2013.0  7.0 2013-07-19   \n",
       "\n",
       "    Fecha Hora Generación Moneda        Vendedor  Cód. Vendedor    SubTotal  \\\n",
       "0 2013-07-22 19:38:35.820    COP      Indefinido            NaN    900000.0   \n",
       "1 2013-07-19 21:11:20.777    COP  Wilson Rojas P            NaN  11353185.0   \n",
       "\n",
       "         IVA  Descuento  Otros  Total Retención       Total  Total A Pagar  \\\n",
       "0   144000.0        0.0    0.0              0.0   1044000.0            NaN   \n",
       "1  1816509.6        0.0    0.0              0.0  13169694.6            NaN   \n",
       "\n",
       "        Ver     Ver.1 Estado Notificación     Teléfono  \\\n",
       "0  322926.0  322926.0                 NaN  4.86202e+06   \n",
       "1  322065.0  322065.0                 NaN  4.86202e+06   \n",
       "\n",
       "  Correos Electrónicos Cliente Correos Electrónicos Enviados  \\\n",
       "0       aduenas@c3colombia.com                           NaN   \n",
       "1       aduenas@c3colombia.com                           NaN   \n",
       "\n",
       "                    EMAIL  \n",
       "0  ADUENAS@C3COLOMBIA.COM  \n",
       "1  ADUENAS@C3COLOMBIA.COM  "
      ]
     },
     "execution_count": 117,
     "metadata": {},
     "output_type": "execute_result"
    }
   ],
   "source": [
    "facturacion_total_contodos_atributos.head(2)"
   ]
  },
  {
   "cell_type": "markdown",
   "metadata": {},
   "source": [
    "## 3.Quitar atributos de Facturacion"
   ]
  },
  {
   "cell_type": "code",
   "execution_count": 118,
   "metadata": {},
   "outputs": [],
   "source": [
    "del facturacion_total['Tipo Doc.']\n",
    "del facturacion_total['Pre']\n",
    "del facturacion_total['ID Empresa']\n",
    "del facturacion_total['Moneda']\n",
    "del facturacion_total['Otros']\n",
    "del facturacion_total['Descuento']\n",
    "del facturacion_total['Vendedor']\n",
    "del facturacion_total['Ver']\n",
    "del facturacion_total['Ver.1']\n",
    "del facturacion_total['ID. Int. Cliente']\n",
    "del facturacion_total['ID Interno']\n",
    "del facturacion_total['Nombre del Cliente']\n",
    "del facturacion_total['No. Doc.']\n",
    "del facturacion_total['Teléfono']\n",
    "del facturacion_total['Orden/Lugar Entrega']\n",
    "del facturacion_total['Cód. Vendedor']\n",
    "del facturacion_total['Total']\n",
    "del facturacion_total['Total A Pagar']\n",
    "del facturacion_total['IVA']\n",
    "del facturacion_total['Total Retención']\n",
    "del facturacion_total['Correos Electrónicos Enviados']\n",
    "del facturacion_total['Correos Electrónicos Cliente']\n",
    "del facturacion_total['ID. Cliente']"
   ]
  },
  {
   "cell_type": "code",
   "execution_count": 119,
   "metadata": {},
   "outputs": [
    {
     "data": {
      "text/html": [
       "<div>\n",
       "<style>\n",
       "    .dataframe thead tr:only-child th {\n",
       "        text-align: right;\n",
       "    }\n",
       "\n",
       "    .dataframe thead th {\n",
       "        text-align: left;\n",
       "    }\n",
       "\n",
       "    .dataframe tbody tr th {\n",
       "        vertical-align: top;\n",
       "    }\n",
       "</style>\n",
       "<table border=\"1\" class=\"dataframe\">\n",
       "  <thead>\n",
       "    <tr style=\"text-align: right;\">\n",
       "      <th></th>\n",
       "      <th>Tipo de Factura</th>\n",
       "      <th>Estado</th>\n",
       "      <th>Año</th>\n",
       "      <th>Mes</th>\n",
       "      <th>Fecha Exp.</th>\n",
       "      <th>Fecha Hora Generación</th>\n",
       "      <th>SubTotal</th>\n",
       "      <th>Estado Notificación</th>\n",
       "      <th>EMAIL</th>\n",
       "    </tr>\n",
       "  </thead>\n",
       "  <tbody>\n",
       "    <tr>\n",
       "      <th>0</th>\n",
       "      <td>Electrónica</td>\n",
       "      <td>Anulada</td>\n",
       "      <td>2013.0</td>\n",
       "      <td>7.0</td>\n",
       "      <td>2013-07-22</td>\n",
       "      <td>2013-07-22 19:38:35.820</td>\n",
       "      <td>900000.0</td>\n",
       "      <td>NaN</td>\n",
       "      <td>ADUENAS@C3COLOMBIA.COM</td>\n",
       "    </tr>\n",
       "    <tr>\n",
       "      <th>1</th>\n",
       "      <td>Electrónica</td>\n",
       "      <td>Entregada</td>\n",
       "      <td>2013.0</td>\n",
       "      <td>7.0</td>\n",
       "      <td>2013-07-19</td>\n",
       "      <td>2013-07-19 21:11:20.777</td>\n",
       "      <td>11353185.0</td>\n",
       "      <td>NaN</td>\n",
       "      <td>ADUENAS@C3COLOMBIA.COM</td>\n",
       "    </tr>\n",
       "  </tbody>\n",
       "</table>\n",
       "</div>"
      ],
      "text/plain": [
       "  Tipo de Factura     Estado     Año  Mes Fecha Exp.   Fecha Hora Generación  \\\n",
       "0     Electrónica    Anulada  2013.0  7.0 2013-07-22 2013-07-22 19:38:35.820   \n",
       "1     Electrónica  Entregada  2013.0  7.0 2013-07-19 2013-07-19 21:11:20.777   \n",
       "\n",
       "     SubTotal Estado Notificación                   EMAIL  \n",
       "0    900000.0                 NaN  ADUENAS@C3COLOMBIA.COM  \n",
       "1  11353185.0                 NaN  ADUENAS@C3COLOMBIA.COM  "
      ]
     },
     "execution_count": 119,
     "metadata": {},
     "output_type": "execute_result"
    }
   ],
   "source": [
    "facturacion_total.head(2)"
   ]
  },
  {
   "cell_type": "markdown",
   "metadata": {},
   "source": [
    "## Se filtran solo las facturas validas"
   ]
  },
  {
   "cell_type": "code",
   "execution_count": 120,
   "metadata": {},
   "outputs": [],
   "source": [
    "#facturacion_total=facturacion_total.loc[(facturacion_total['Moneda'] =='COP')]\n",
    "facturacion_total=facturacion_total.loc[facturacion_total['Estado'].isin(['Entregada', 'Aceptada', 'Creada', 'Modificada'])]"
   ]
  },
  {
   "cell_type": "code",
   "execution_count": 121,
   "metadata": {},
   "outputs": [],
   "source": [
    "facturacion_por_cliente2= facturacion_total.groupby('EMAIL')['Estado'].count().reset_index()"
   ]
  },
  {
   "cell_type": "code",
   "execution_count": 122,
   "metadata": {
    "collapsed": true
   },
   "outputs": [],
   "source": [
    "facturacion_por_cliente2.rename(columns={'Estado': 'Numero_facturas'}, inplace=True)"
   ]
  },
  {
   "cell_type": "markdown",
   "metadata": {},
   "source": [
    "## BASE COMBINADA"
   ]
  },
  {
   "cell_type": "markdown",
   "metadata": {},
   "source": [
    "## 1.A Se calcula número de facturas registradas por email de la base de facturación"
   ]
  },
  {
   "cell_type": "code",
   "execution_count": 123,
   "metadata": {},
   "outputs": [
    {
     "data": {
      "text/html": [
       "<div>\n",
       "<style>\n",
       "    .dataframe thead tr:only-child th {\n",
       "        text-align: right;\n",
       "    }\n",
       "\n",
       "    .dataframe thead th {\n",
       "        text-align: left;\n",
       "    }\n",
       "\n",
       "    .dataframe tbody tr th {\n",
       "        vertical-align: top;\n",
       "    }\n",
       "</style>\n",
       "<table border=\"1\" class=\"dataframe\">\n",
       "  <thead>\n",
       "    <tr style=\"text-align: right;\">\n",
       "      <th></th>\n",
       "      <th>EMAIL</th>\n",
       "      <th>Numero_facturas</th>\n",
       "    </tr>\n",
       "  </thead>\n",
       "  <tbody>\n",
       "    <tr>\n",
       "      <th>0</th>\n",
       "      <td>ABOGADOANDRESLOPEZ@GMAIL.COM</td>\n",
       "      <td>14</td>\n",
       "    </tr>\n",
       "    <tr>\n",
       "      <th>1</th>\n",
       "      <td>AC.COMPRAS1@GMAIL.COM</td>\n",
       "      <td>1</td>\n",
       "    </tr>\n",
       "  </tbody>\n",
       "</table>\n",
       "</div>"
      ],
      "text/plain": [
       "                          EMAIL  Numero_facturas\n",
       "0  ABOGADOANDRESLOPEZ@GMAIL.COM               14\n",
       "1         AC.COMPRAS1@GMAIL.COM                1"
      ]
     },
     "execution_count": 123,
     "metadata": {},
     "output_type": "execute_result"
    }
   ],
   "source": [
    "facturacion_por_cliente2.head(2)"
   ]
  },
  {
   "cell_type": "markdown",
   "metadata": {},
   "source": [
    "## 1.B Se calcula Subtotal acumulado por email de la base de facturación"
   ]
  },
  {
   "cell_type": "code",
   "execution_count": 124,
   "metadata": {
    "collapsed": true
   },
   "outputs": [],
   "source": [
    "facturacion_por_cliente3= facturacion_total.groupby('EMAIL')['SubTotal'].sum().reset_index()"
   ]
  },
  {
   "cell_type": "code",
   "execution_count": 125,
   "metadata": {},
   "outputs": [
    {
     "data": {
      "text/html": [
       "<div>\n",
       "<style>\n",
       "    .dataframe thead tr:only-child th {\n",
       "        text-align: right;\n",
       "    }\n",
       "\n",
       "    .dataframe thead th {\n",
       "        text-align: left;\n",
       "    }\n",
       "\n",
       "    .dataframe tbody tr th {\n",
       "        vertical-align: top;\n",
       "    }\n",
       "</style>\n",
       "<table border=\"1\" class=\"dataframe\">\n",
       "  <thead>\n",
       "    <tr style=\"text-align: right;\">\n",
       "      <th></th>\n",
       "      <th>EMAIL</th>\n",
       "      <th>SubTotal</th>\n",
       "    </tr>\n",
       "  </thead>\n",
       "  <tbody>\n",
       "    <tr>\n",
       "      <th>0</th>\n",
       "      <td>ABOGADOANDRESLOPEZ@GMAIL.COM</td>\n",
       "      <td>1905653.4</td>\n",
       "    </tr>\n",
       "    <tr>\n",
       "      <th>1</th>\n",
       "      <td>AC.COMPRAS1@GMAIL.COM</td>\n",
       "      <td>408000.0</td>\n",
       "    </tr>\n",
       "  </tbody>\n",
       "</table>\n",
       "</div>"
      ],
      "text/plain": [
       "                          EMAIL   SubTotal\n",
       "0  ABOGADOANDRESLOPEZ@GMAIL.COM  1905653.4\n",
       "1         AC.COMPRAS1@GMAIL.COM   408000.0"
      ]
     },
     "execution_count": 125,
     "metadata": {},
     "output_type": "execute_result"
    }
   ],
   "source": [
    "facturacion_por_cliente3.head(2)"
   ]
  },
  {
   "cell_type": "code",
   "execution_count": 157,
   "metadata": {},
   "outputs": [
    {
     "data": {
      "text/plain": [
       "(448, 2)"
      ]
     },
     "execution_count": 157,
     "metadata": {},
     "output_type": "execute_result"
    }
   ],
   "source": [
    "facturacion_por_cliente3.shape"
   ]
  },
  {
   "cell_type": "markdown",
   "metadata": {},
   "source": [
    "## Se une el numero de facturas y el subtotal para cada cliente"
   ]
  },
  {
   "cell_type": "code",
   "execution_count": 126,
   "metadata": {},
   "outputs": [
    {
     "data": {
      "text/html": [
       "<div>\n",
       "<style>\n",
       "    .dataframe thead tr:only-child th {\n",
       "        text-align: right;\n",
       "    }\n",
       "\n",
       "    .dataframe thead th {\n",
       "        text-align: left;\n",
       "    }\n",
       "\n",
       "    .dataframe tbody tr th {\n",
       "        vertical-align: top;\n",
       "    }\n",
       "</style>\n",
       "<table border=\"1\" class=\"dataframe\">\n",
       "  <thead>\n",
       "    <tr style=\"text-align: right;\">\n",
       "      <th></th>\n",
       "      <th>EMAIL</th>\n",
       "      <th>SubTotal</th>\n",
       "      <th>Numero_facturas</th>\n",
       "    </tr>\n",
       "  </thead>\n",
       "  <tbody>\n",
       "    <tr>\n",
       "      <th>0</th>\n",
       "      <td>ABOGADOANDRESLOPEZ@GMAIL.COM</td>\n",
       "      <td>1905653.4</td>\n",
       "      <td>14</td>\n",
       "    </tr>\n",
       "    <tr>\n",
       "      <th>1</th>\n",
       "      <td>AC.COMPRAS1@GMAIL.COM</td>\n",
       "      <td>408000.0</td>\n",
       "      <td>1</td>\n",
       "    </tr>\n",
       "  </tbody>\n",
       "</table>\n",
       "</div>"
      ],
      "text/plain": [
       "                          EMAIL   SubTotal  Numero_facturas\n",
       "0  ABOGADOANDRESLOPEZ@GMAIL.COM  1905653.4               14\n",
       "1         AC.COMPRAS1@GMAIL.COM   408000.0                1"
      ]
     },
     "execution_count": 126,
     "metadata": {},
     "output_type": "execute_result"
    }
   ],
   "source": [
    "facturacion_num_facturas =  pd.merge(facturacion_por_cliente3, facturacion_por_cliente2, how='inner', left_on=['EMAIL'],right_on=['EMAIL'])\n",
    "facturacion_num_facturas.head(2)"
   ]
  },
  {
   "cell_type": "code",
   "execution_count": 127,
   "metadata": {},
   "outputs": [
    {
     "data": {
      "text/plain": [
       "(448, 3)"
      ]
     },
     "execution_count": 127,
     "metadata": {},
     "output_type": "execute_result"
    }
   ],
   "source": [
    "facturacion_num_facturas.shape"
   ]
  },
  {
   "cell_type": "code",
   "execution_count": null,
   "metadata": {
    "collapsed": true
   },
   "outputs": [],
   "source": []
  },
  {
   "cell_type": "markdown",
   "metadata": {},
   "source": [
    "## 1.C Se calcula la ULTIMA FECHA de factura POR EMAIL"
   ]
  },
  {
   "cell_type": "code",
   "execution_count": 128,
   "metadata": {},
   "outputs": [
    {
     "data": {
      "text/html": [
       "<div>\n",
       "<style>\n",
       "    .dataframe thead tr:only-child th {\n",
       "        text-align: right;\n",
       "    }\n",
       "\n",
       "    .dataframe thead th {\n",
       "        text-align: left;\n",
       "    }\n",
       "\n",
       "    .dataframe tbody tr th {\n",
       "        vertical-align: top;\n",
       "    }\n",
       "</style>\n",
       "<table border=\"1\" class=\"dataframe\">\n",
       "  <thead>\n",
       "    <tr style=\"text-align: right;\">\n",
       "      <th></th>\n",
       "      <th>Tipo de Factura</th>\n",
       "      <th>Estado</th>\n",
       "      <th>Año</th>\n",
       "      <th>Mes</th>\n",
       "      <th>Fecha Exp.</th>\n",
       "      <th>Fecha Hora Generación</th>\n",
       "      <th>SubTotal</th>\n",
       "      <th>Estado Notificación</th>\n",
       "      <th>EMAIL</th>\n",
       "    </tr>\n",
       "  </thead>\n",
       "  <tbody>\n",
       "    <tr>\n",
       "      <th>1</th>\n",
       "      <td>Electrónica</td>\n",
       "      <td>Entregada</td>\n",
       "      <td>2013.0</td>\n",
       "      <td>7.0</td>\n",
       "      <td>2013-07-19</td>\n",
       "      <td>2013-07-19 21:11:20.777</td>\n",
       "      <td>11353185.0</td>\n",
       "      <td>NaN</td>\n",
       "      <td>ADUENAS@C3COLOMBIA.COM</td>\n",
       "    </tr>\n",
       "    <tr>\n",
       "      <th>2</th>\n",
       "      <td>Por Computador</td>\n",
       "      <td>Entregada</td>\n",
       "      <td>2013.0</td>\n",
       "      <td>7.0</td>\n",
       "      <td>2013-07-16</td>\n",
       "      <td>2013-07-16 08:18:06.617</td>\n",
       "      <td>3934750.0</td>\n",
       "      <td>NaN</td>\n",
       "      <td>ADUENAS@C3COLOMBIA.COM</td>\n",
       "    </tr>\n",
       "  </tbody>\n",
       "</table>\n",
       "</div>"
      ],
      "text/plain": [
       "  Tipo de Factura     Estado     Año  Mes Fecha Exp.   Fecha Hora Generación  \\\n",
       "1     Electrónica  Entregada  2013.0  7.0 2013-07-19 2013-07-19 21:11:20.777   \n",
       "2  Por Computador  Entregada  2013.0  7.0 2013-07-16 2013-07-16 08:18:06.617   \n",
       "\n",
       "     SubTotal Estado Notificación                   EMAIL  \n",
       "1  11353185.0                 NaN  ADUENAS@C3COLOMBIA.COM  \n",
       "2   3934750.0                 NaN  ADUENAS@C3COLOMBIA.COM  "
      ]
     },
     "execution_count": 128,
     "metadata": {},
     "output_type": "execute_result"
    }
   ],
   "source": [
    "facturacion_total.head(2)"
   ]
  },
  {
   "cell_type": "code",
   "execution_count": 129,
   "metadata": {},
   "outputs": [
    {
     "name": "stderr",
     "output_type": "stream",
     "text": [
      "C:\\Users\\franc\\Anaconda3\\lib\\site-packages\\ipykernel_launcher.py:1: SettingWithCopyWarning: \n",
      "A value is trying to be set on a copy of a slice from a DataFrame.\n",
      "Try using .loc[row_indexer,col_indexer] = value instead\n",
      "\n",
      "See the caveats in the documentation: http://pandas.pydata.org/pandas-docs/stable/indexing.html#indexing-view-versus-copy\n",
      "  \"\"\"Entry point for launching an IPython kernel.\n"
     ]
    }
   ],
   "source": [
    "facturacion_total[\"Fecha Exp.\"] = pd.to_datetime(facturacion_total[\"Fecha Exp.\"])"
   ]
  },
  {
   "cell_type": "code",
   "execution_count": 130,
   "metadata": {},
   "outputs": [],
   "source": [
    "ultima_facturacion=facturacion_total[[\"Fecha Exp.\",\"EMAIL\"]]"
   ]
  },
  {
   "cell_type": "code",
   "execution_count": 131,
   "metadata": {},
   "outputs": [],
   "source": [
    "ultima_facturacion=ultima_facturacion.drop_duplicates(subset=\"EMAIL\",keep='last')"
   ]
  },
  {
   "cell_type": "code",
   "execution_count": 132,
   "metadata": {},
   "outputs": [],
   "source": [
    "ultima_facturacion.rename(columns={'Fecha Exp.': 'ultima_factura'}, inplace=True)"
   ]
  },
  {
   "cell_type": "code",
   "execution_count": 133,
   "metadata": {},
   "outputs": [
    {
     "data": {
      "text/plain": [
       "(448, 2)"
      ]
     },
     "execution_count": 133,
     "metadata": {},
     "output_type": "execute_result"
    }
   ],
   "source": [
    "ultima_facturacion.shape"
   ]
  },
  {
   "cell_type": "code",
   "execution_count": 134,
   "metadata": {},
   "outputs": [
    {
     "data": {
      "text/html": [
       "<div>\n",
       "<style>\n",
       "    .dataframe thead tr:only-child th {\n",
       "        text-align: right;\n",
       "    }\n",
       "\n",
       "    .dataframe thead th {\n",
       "        text-align: left;\n",
       "    }\n",
       "\n",
       "    .dataframe tbody tr th {\n",
       "        vertical-align: top;\n",
       "    }\n",
       "</style>\n",
       "<table border=\"1\" class=\"dataframe\">\n",
       "  <thead>\n",
       "    <tr style=\"text-align: right;\">\n",
       "      <th></th>\n",
       "      <th>ultima_factura</th>\n",
       "      <th>EMAIL</th>\n",
       "    </tr>\n",
       "  </thead>\n",
       "  <tbody>\n",
       "    <tr>\n",
       "      <th>116</th>\n",
       "      <td>2017-12-01</td>\n",
       "      <td>ADMINISTRATIVO@CATALOGOPUNTOTALL.COM.CO</td>\n",
       "    </tr>\n",
       "    <tr>\n",
       "      <th>117</th>\n",
       "      <td>2017-12-01</td>\n",
       "      <td>ANDRES.MORENO@CARVAJAL.COM</td>\n",
       "    </tr>\n",
       "  </tbody>\n",
       "</table>\n",
       "</div>"
      ],
      "text/plain": [
       "    ultima_factura                                    EMAIL\n",
       "116     2017-12-01  ADMINISTRATIVO@CATALOGOPUNTOTALL.COM.CO\n",
       "117     2017-12-01               ANDRES.MORENO@CARVAJAL.COM"
      ]
     },
     "execution_count": 134,
     "metadata": {},
     "output_type": "execute_result"
    }
   ],
   "source": [
    "ultima_facturacion.tail(2)"
   ]
  },
  {
   "cell_type": "code",
   "execution_count": 135,
   "metadata": {},
   "outputs": [
    {
     "data": {
      "text/html": [
       "<div>\n",
       "<style>\n",
       "    .dataframe thead tr:only-child th {\n",
       "        text-align: right;\n",
       "    }\n",
       "\n",
       "    .dataframe thead th {\n",
       "        text-align: left;\n",
       "    }\n",
       "\n",
       "    .dataframe tbody tr th {\n",
       "        vertical-align: top;\n",
       "    }\n",
       "</style>\n",
       "<table border=\"1\" class=\"dataframe\">\n",
       "  <thead>\n",
       "    <tr style=\"text-align: right;\">\n",
       "      <th></th>\n",
       "      <th>Tipo de Factura</th>\n",
       "      <th>Estado</th>\n",
       "      <th>Año</th>\n",
       "      <th>Mes</th>\n",
       "      <th>Fecha Exp.</th>\n",
       "      <th>Fecha Hora Generación</th>\n",
       "      <th>SubTotal</th>\n",
       "      <th>Estado Notificación</th>\n",
       "      <th>EMAIL</th>\n",
       "    </tr>\n",
       "  </thead>\n",
       "  <tbody>\n",
       "    <tr>\n",
       "      <th>116</th>\n",
       "      <td>Por Computador</td>\n",
       "      <td>Creada</td>\n",
       "      <td>2017.0</td>\n",
       "      <td>12.0</td>\n",
       "      <td>2017-12-01</td>\n",
       "      <td>2017-12-01 08:55:22.470</td>\n",
       "      <td>199998.0</td>\n",
       "      <td>NaN</td>\n",
       "      <td>ADMINISTRATIVO@CATALOGOPUNTOTALL.COM.CO</td>\n",
       "    </tr>\n",
       "    <tr>\n",
       "      <th>117</th>\n",
       "      <td>Por Computador</td>\n",
       "      <td>Modificada</td>\n",
       "      <td>2017.0</td>\n",
       "      <td>12.0</td>\n",
       "      <td>2017-12-01</td>\n",
       "      <td>2017-12-01 08:43:05.010</td>\n",
       "      <td>98020.0</td>\n",
       "      <td>NaN</td>\n",
       "      <td>ANDRES.MORENO@CARVAJAL.COM</td>\n",
       "    </tr>\n",
       "  </tbody>\n",
       "</table>\n",
       "</div>"
      ],
      "text/plain": [
       "    Tipo de Factura      Estado     Año   Mes Fecha Exp.  \\\n",
       "116  Por Computador      Creada  2017.0  12.0 2017-12-01   \n",
       "117  Por Computador  Modificada  2017.0  12.0 2017-12-01   \n",
       "\n",
       "      Fecha Hora Generación  SubTotal Estado Notificación  \\\n",
       "116 2017-12-01 08:55:22.470  199998.0                 NaN   \n",
       "117 2017-12-01 08:43:05.010   98020.0                 NaN   \n",
       "\n",
       "                                       EMAIL  \n",
       "116  ADMINISTRATIVO@CATALOGOPUNTOTALL.COM.CO  \n",
       "117               ANDRES.MORENO@CARVAJAL.COM  "
      ]
     },
     "execution_count": 135,
     "metadata": {},
     "output_type": "execute_result"
    }
   ],
   "source": [
    "facturacion_total.tail(2)"
   ]
  },
  {
   "cell_type": "code",
   "execution_count": 136,
   "metadata": {},
   "outputs": [
    {
     "data": {
      "text/plain": [
       "448"
      ]
     },
     "execution_count": 136,
     "metadata": {},
     "output_type": "execute_result"
    }
   ],
   "source": [
    "ultima_facturacion[\"EMAIL\"].nunique()"
   ]
  },
  {
   "cell_type": "code",
   "execution_count": 137,
   "metadata": {},
   "outputs": [
    {
     "data": {
      "text/html": [
       "<div>\n",
       "<style>\n",
       "    .dataframe thead tr:only-child th {\n",
       "        text-align: right;\n",
       "    }\n",
       "\n",
       "    .dataframe thead th {\n",
       "        text-align: left;\n",
       "    }\n",
       "\n",
       "    .dataframe tbody tr th {\n",
       "        vertical-align: top;\n",
       "    }\n",
       "</style>\n",
       "<table border=\"1\" class=\"dataframe\">\n",
       "  <thead>\n",
       "    <tr style=\"text-align: right;\">\n",
       "      <th></th>\n",
       "      <th>EMAIL</th>\n",
       "      <th>SubTotal</th>\n",
       "      <th>Numero_facturas</th>\n",
       "      <th>ultima_factura</th>\n",
       "    </tr>\n",
       "  </thead>\n",
       "  <tbody>\n",
       "    <tr>\n",
       "      <th>0</th>\n",
       "      <td>ABOGADOANDRESLOPEZ@GMAIL.COM</td>\n",
       "      <td>1905653.4</td>\n",
       "      <td>14</td>\n",
       "      <td>2017-12-10</td>\n",
       "    </tr>\n",
       "    <tr>\n",
       "      <th>1</th>\n",
       "      <td>AC.COMPRAS1@GMAIL.COM</td>\n",
       "      <td>408000.0</td>\n",
       "      <td>1</td>\n",
       "      <td>2014-12-24</td>\n",
       "    </tr>\n",
       "  </tbody>\n",
       "</table>\n",
       "</div>"
      ],
      "text/plain": [
       "                          EMAIL   SubTotal  Numero_facturas ultima_factura\n",
       "0  ABOGADOANDRESLOPEZ@GMAIL.COM  1905653.4               14     2017-12-10\n",
       "1         AC.COMPRAS1@GMAIL.COM   408000.0                1     2014-12-24"
      ]
     },
     "execution_count": 137,
     "metadata": {},
     "output_type": "execute_result"
    }
   ],
   "source": [
    "client_fact_ultima_factura =  pd.merge(facturacion_num_facturas, ultima_facturacion, how='inner', left_on=['EMAIL'],right_on=['EMAIL'])\n",
    "client_fact_ultima_factura.head(2)"
   ]
  },
  {
   "cell_type": "code",
   "execution_count": 138,
   "metadata": {},
   "outputs": [
    {
     "data": {
      "text/plain": [
       "(448, 3)"
      ]
     },
     "execution_count": 138,
     "metadata": {},
     "output_type": "execute_result"
    }
   ],
   "source": [
    "facturacion_num_facturas.shape"
   ]
  },
  {
   "cell_type": "code",
   "execution_count": 139,
   "metadata": {},
   "outputs": [
    {
     "data": {
      "text/plain": [
       "(448, 2)"
      ]
     },
     "execution_count": 139,
     "metadata": {},
     "output_type": "execute_result"
    }
   ],
   "source": [
    "ultima_facturacion.shape"
   ]
  },
  {
   "cell_type": "markdown",
   "metadata": {},
   "source": [
    "## 2. Para cada uno de los 2.880 clientes que se encuentra en la base de datos final de CLIENTES, determinar cuáles tienen facturación registrada. Esto da 448 clientes"
   ]
  },
  {
   "cell_type": "code",
   "execution_count": 140,
   "metadata": {},
   "outputs": [
    {
     "name": "stdout",
     "output_type": "stream",
     "text": [
      "D:\\MINE\\ProyectoFinalMINE\\Datos\\Fuentes Usadas Tableau\\salidas\n"
     ]
    }
   ],
   "source": [
    "%cd D:\\MINE\\ProyectoFinalMINE\\Datos\\Fuentes Usadas Tableau\\salidas"
   ]
  },
  {
   "cell_type": "code",
   "execution_count": 141,
   "metadata": {
    "collapsed": true
   },
   "outputs": [],
   "source": [
    "cliente_con_sector = pd.read_excel('cliente_con_sector.xlsx')"
   ]
  },
  {
   "cell_type": "code",
   "execution_count": 142,
   "metadata": {},
   "outputs": [
    {
     "data": {
      "text/plain": [
       "(3731, 9)"
      ]
     },
     "execution_count": 142,
     "metadata": {},
     "output_type": "execute_result"
    }
   ],
   "source": [
    "facturacion_total.shape"
   ]
  },
  {
   "cell_type": "markdown",
   "metadata": {},
   "source": [
    "## Los dataframe que haran merge son:\n",
    "-client_fact_ultima_factura\n",
    "\n",
    "-cliente_con_sector"
   ]
  },
  {
   "cell_type": "code",
   "execution_count": 146,
   "metadata": {},
   "outputs": [
    {
     "data": {
      "text/plain": [
       "1509"
      ]
     },
     "execution_count": 146,
     "metadata": {},
     "output_type": "execute_result"
    }
   ],
   "source": [
    "cliente_con_sector[\"EMAIL\"].nunique()"
   ]
  },
  {
   "cell_type": "code",
   "execution_count": 149,
   "metadata": {},
   "outputs": [
    {
     "data": {
      "text/plain": [
       "(1509, 12)"
      ]
     },
     "execution_count": 149,
     "metadata": {},
     "output_type": "execute_result"
    }
   ],
   "source": [
    "cliente_con_sector.shape"
   ]
  },
  {
   "cell_type": "code",
   "execution_count": 148,
   "metadata": {},
   "outputs": [],
   "source": [
    "cliente_con_sector=cliente_con_sector.drop_duplicates(subset=\"EMAIL\",keep='last')"
   ]
  },
  {
   "cell_type": "code",
   "execution_count": 150,
   "metadata": {},
   "outputs": [
    {
     "data": {
      "text/html": [
       "<div>\n",
       "<style>\n",
       "    .dataframe thead tr:only-child th {\n",
       "        text-align: right;\n",
       "    }\n",
       "\n",
       "    .dataframe thead th {\n",
       "        text-align: left;\n",
       "    }\n",
       "\n",
       "    .dataframe tbody tr th {\n",
       "        vertical-align: top;\n",
       "    }\n",
       "</style>\n",
       "<table border=\"1\" class=\"dataframe\">\n",
       "  <thead>\n",
       "    <tr style=\"text-align: right;\">\n",
       "      <th></th>\n",
       "      <th>EMAIL</th>\n",
       "      <th>SubTotal</th>\n",
       "      <th>Numero_facturas</th>\n",
       "      <th>ultima_factura</th>\n",
       "    </tr>\n",
       "  </thead>\n",
       "  <tbody>\n",
       "    <tr>\n",
       "      <th>0</th>\n",
       "      <td>ABOGADOANDRESLOPEZ@GMAIL.COM</td>\n",
       "      <td>1905653.4</td>\n",
       "      <td>14</td>\n",
       "      <td>2017-12-10</td>\n",
       "    </tr>\n",
       "    <tr>\n",
       "      <th>1</th>\n",
       "      <td>AC.COMPRAS1@GMAIL.COM</td>\n",
       "      <td>408000.0</td>\n",
       "      <td>1</td>\n",
       "      <td>2014-12-24</td>\n",
       "    </tr>\n",
       "  </tbody>\n",
       "</table>\n",
       "</div>"
      ],
      "text/plain": [
       "                          EMAIL   SubTotal  Numero_facturas ultima_factura\n",
       "0  ABOGADOANDRESLOPEZ@GMAIL.COM  1905653.4               14     2017-12-10\n",
       "1         AC.COMPRAS1@GMAIL.COM   408000.0                1     2014-12-24"
      ]
     },
     "execution_count": 150,
     "metadata": {},
     "output_type": "execute_result"
    }
   ],
   "source": [
    "client_fact_ultima_factura.head(2)"
   ]
  },
  {
   "cell_type": "code",
   "execution_count": 151,
   "metadata": {},
   "outputs": [
    {
     "data": {
      "text/plain": [
       "(448, 4)"
      ]
     },
     "execution_count": 151,
     "metadata": {},
     "output_type": "execute_result"
    }
   ],
   "source": [
    "client_fact_ultima_factura.shape"
   ]
  },
  {
   "cell_type": "code",
   "execution_count": 152,
   "metadata": {},
   "outputs": [
    {
     "data": {
      "text/plain": [
       "(1509, 12)"
      ]
     },
     "execution_count": 152,
     "metadata": {},
     "output_type": "execute_result"
    }
   ],
   "source": [
    "cliente_con_sector.shape"
   ]
  },
  {
   "cell_type": "code",
   "execution_count": 153,
   "metadata": {},
   "outputs": [
    {
     "data": {
      "text/plain": [
       "(448, 15)"
      ]
     },
     "execution_count": 153,
     "metadata": {},
     "output_type": "execute_result"
    }
   ],
   "source": [
    "fuente_combinada.shape"
   ]
  },
  {
   "cell_type": "code",
   "execution_count": 155,
   "metadata": {},
   "outputs": [
    {
     "data": {
      "text/plain": [
       "448"
      ]
     },
     "execution_count": 155,
     "metadata": {},
     "output_type": "execute_result"
    }
   ],
   "source": [
    "fuente_combinada[\"EMAIL\"].nunique()"
   ]
  },
  {
   "cell_type": "markdown",
   "metadata": {},
   "source": [
    "## 3. Para cada uno de estos 448 clientes recuperar los siguientes atributos de la base final de cliente"
   ]
  },
  {
   "cell_type": "code",
   "execution_count": 82,
   "metadata": {},
   "outputs": [
    {
     "data": {
      "text/html": [
       "<div>\n",
       "<style>\n",
       "    .dataframe thead tr:only-child th {\n",
       "        text-align: right;\n",
       "    }\n",
       "\n",
       "    .dataframe thead th {\n",
       "        text-align: left;\n",
       "    }\n",
       "\n",
       "    .dataframe tbody tr th {\n",
       "        vertical-align: top;\n",
       "    }\n",
       "</style>\n",
       "<table border=\"1\" class=\"dataframe\">\n",
       "  <thead>\n",
       "    <tr style=\"text-align: right;\">\n",
       "      <th></th>\n",
       "      <th>EMAIL</th>\n",
       "      <th>SubTotal</th>\n",
       "      <th>Numero_facturas</th>\n",
       "      <th>ultima_factura</th>\n",
       "      <th>TipoUsuario</th>\n",
       "      <th>Prioridad</th>\n",
       "      <th>producto</th>\n",
       "      <th>Tipo Cotizacion a enviar</th>\n",
       "      <th>comercial</th>\n",
       "      <th>Fecha creacion</th>\n",
       "      <th>estado</th>\n",
       "      <th>Sector</th>\n",
       "      <th>ciudad</th>\n",
       "      <th>Periodo</th>\n",
       "      <th>Antiguedad</th>\n",
       "    </tr>\n",
       "  </thead>\n",
       "  <tbody>\n",
       "    <tr>\n",
       "      <th>0</th>\n",
       "      <td>ABOGADOANDRESLOPEZ@GMAIL.COM</td>\n",
       "      <td>1905653.4</td>\n",
       "      <td>14</td>\n",
       "      <td>2017-12-10</td>\n",
       "      <td>Usuario_Final</td>\n",
       "      <td>3_Media</td>\n",
       "      <td>Sms_Salida</td>\n",
       "      <td>Marcacion_Automatica_CON_Precio</td>\n",
       "      <td>mpineda</td>\n",
       "      <td>2015-06-30 08:35:14</td>\n",
       "      <td>en_proceso_Con_Venta</td>\n",
       "      <td>Politicos</td>\n",
       "      <td>Medellin</td>\n",
       "      <td>201506.0</td>\n",
       "      <td>34.0</td>\n",
       "    </tr>\n",
       "    <tr>\n",
       "      <th>1</th>\n",
       "      <td>AC.COMPRAS1@GMAIL.COM</td>\n",
       "      <td>408000.0</td>\n",
       "      <td>1</td>\n",
       "      <td>2014-12-24</td>\n",
       "      <td>Usuario_Final</td>\n",
       "      <td>3_Media</td>\n",
       "      <td>Sms_Salida</td>\n",
       "      <td>SMS_Correo_CON_Precio</td>\n",
       "      <td>wrojas</td>\n",
       "      <td>2014-12-17 11:59:15</td>\n",
       "      <td>cerrado</td>\n",
       "      <td>SinIdentificar</td>\n",
       "      <td>Bogota</td>\n",
       "      <td>201412.0</td>\n",
       "      <td>41.0</td>\n",
       "    </tr>\n",
       "  </tbody>\n",
       "</table>\n",
       "</div>"
      ],
      "text/plain": [
       "                          EMAIL   SubTotal  Numero_facturas ultima_factura  \\\n",
       "0  ABOGADOANDRESLOPEZ@GMAIL.COM  1905653.4               14     2017-12-10   \n",
       "1         AC.COMPRAS1@GMAIL.COM   408000.0                1     2014-12-24   \n",
       "\n",
       "     TipoUsuario Prioridad    producto         Tipo Cotizacion a enviar  \\\n",
       "0  Usuario_Final   3_Media  Sms_Salida  Marcacion_Automatica_CON_Precio   \n",
       "1  Usuario_Final   3_Media  Sms_Salida            SMS_Correo_CON_Precio   \n",
       "\n",
       "  comercial     Fecha creacion                 estado          Sector  \\\n",
       "0   mpineda 2015-06-30 08:35:14  en_proceso_Con_Venta       Politicos   \n",
       "1    wrojas 2014-12-17 11:59:15               cerrado  SinIdentificar   \n",
       "\n",
       "     ciudad   Periodo  Antiguedad  \n",
       "0  Medellin  201506.0        34.0  \n",
       "1    Bogota  201412.0        41.0  "
      ]
     },
     "execution_count": 82,
     "metadata": {},
     "output_type": "execute_result"
    }
   ],
   "source": [
    "fuente_combinada =  pd.merge(client_fact_ultima_factura, cliente_con_sector, how='left', left_on=['EMAIL'],right_on=['EMAIL'])\n",
    "fuente_combinada.head(2)"
   ]
  },
  {
   "cell_type": "code",
   "execution_count": 158,
   "metadata": {},
   "outputs": [
    {
     "name": "stdout",
     "output_type": "stream",
     "text": [
      "D:\\MINE\\ProyectoFinalMINE\\Datos\\Fuentes Usadas Tableau\\salidas\n"
     ]
    }
   ],
   "source": [
    "%cd D:\\MINE\\ProyectoFinalMINE\\Datos\\Fuentes Usadas Tableau\\salidas\n",
    "fuente_combinada.to_excel(\"fuente_combinada.xlsx\")"
   ]
  },
  {
   "cell_type": "code",
   "execution_count": null,
   "metadata": {
    "collapsed": true
   },
   "outputs": [],
   "source": []
  },
  {
   "cell_type": "code",
   "execution_count": null,
   "metadata": {
    "collapsed": true
   },
   "outputs": [],
   "source": []
  },
  {
   "cell_type": "code",
   "execution_count": null,
   "metadata": {
    "collapsed": true
   },
   "outputs": [],
   "source": []
  },
  {
   "cell_type": "code",
   "execution_count": 160,
   "metadata": {},
   "outputs": [
    {
     "data": {
      "text/html": [
       "<div>\n",
       "<style>\n",
       "    .dataframe thead tr:only-child th {\n",
       "        text-align: right;\n",
       "    }\n",
       "\n",
       "    .dataframe thead th {\n",
       "        text-align: left;\n",
       "    }\n",
       "\n",
       "    .dataframe tbody tr th {\n",
       "        vertical-align: top;\n",
       "    }\n",
       "</style>\n",
       "<table border=\"1\" class=\"dataframe\">\n",
       "  <thead>\n",
       "    <tr style=\"text-align: right;\">\n",
       "      <th></th>\n",
       "      <th>EMAIL</th>\n",
       "      <th>SubTotal</th>\n",
       "      <th>Numero_facturas</th>\n",
       "      <th>ultima_factura</th>\n",
       "      <th>TipoUsuario</th>\n",
       "      <th>Prioridad</th>\n",
       "      <th>producto</th>\n",
       "      <th>Tipo Cotizacion a enviar</th>\n",
       "      <th>comercial</th>\n",
       "      <th>Fecha creacion</th>\n",
       "      <th>estado</th>\n",
       "      <th>Sector</th>\n",
       "      <th>ciudad</th>\n",
       "      <th>Periodo</th>\n",
       "      <th>Antiguedad</th>\n",
       "    </tr>\n",
       "  </thead>\n",
       "  <tbody>\n",
       "    <tr>\n",
       "      <th>440</th>\n",
       "      <td>TXCLOUDSAS@GMAIL.COM</td>\n",
       "      <td>972344.0</td>\n",
       "      <td>2</td>\n",
       "      <td>2016-06-07</td>\n",
       "      <td>Usuario_Final</td>\n",
       "      <td>2_Alta</td>\n",
       "      <td>Sms_Salida</td>\n",
       "      <td>SMS_Correo_CON_Precio</td>\n",
       "      <td>fpineda</td>\n",
       "      <td>2015-08-21 17:13:17</td>\n",
       "      <td>en_proceso_Con_Venta</td>\n",
       "      <td>Independiente</td>\n",
       "      <td>OTROS</td>\n",
       "      <td>201508.0</td>\n",
       "      <td>33.0</td>\n",
       "    </tr>\n",
       "  </tbody>\n",
       "</table>\n",
       "</div>"
      ],
      "text/plain": [
       "                    EMAIL  SubTotal  Numero_facturas ultima_factura  \\\n",
       "440  TXCLOUDSAS@GMAIL.COM  972344.0                2     2016-06-07   \n",
       "\n",
       "       TipoUsuario Prioridad    producto Tipo Cotizacion a enviar comercial  \\\n",
       "440  Usuario_Final    2_Alta  Sms_Salida    SMS_Correo_CON_Precio   fpineda   \n",
       "\n",
       "        Fecha creacion                 estado         Sector ciudad   Periodo  \\\n",
       "440 2015-08-21 17:13:17  en_proceso_Con_Venta  Independiente  OTROS  201508.0   \n",
       "\n",
       "     Antiguedad  \n",
       "440        33.0  "
      ]
     },
     "execution_count": 160,
     "metadata": {},
     "output_type": "execute_result"
    }
   ],
   "source": [
    "fuente_combinada.loc[(fuente_combinada['EMAIL'] =='TXCLOUDSAS@GMAIL.COM')]"
   ]
  },
  {
   "cell_type": "code",
   "execution_count": 77,
   "metadata": {},
   "outputs": [
    {
     "name": "stdout",
     "output_type": "stream",
     "text": [
      "D:\\MINE\\ProyectoFinalMINE\\Datos\\Fuentes Usadas Tableau\\salidas\n"
     ]
    }
   ],
   "source": [
    "#%cd /home/xubuntu/Documents/ProyectoFinalMINE/Datos/Salidas\n",
    "%cd D:\\MINE\\ProyectoFinalMINE\\Datos\\Fuentes Usadas Tableau\\salidas\n",
    "#fact_cliente_fecha.to_excel(\"fact_cliente_fecha.xlsx\")"
   ]
  },
  {
   "cell_type": "code",
   "execution_count": null,
   "metadata": {
    "collapsed": true
   },
   "outputs": [],
   "source": []
  }
 ],
 "metadata": {
  "kernelspec": {
   "display_name": "Python 3",
   "language": "python",
   "name": "python3"
  },
  "language_info": {
   "codemirror_mode": {
    "name": "ipython",
    "version": 3
   },
   "file_extension": ".py",
   "mimetype": "text/x-python",
   "name": "python",
   "nbconvert_exporter": "python",
   "pygments_lexer": "ipython3",
   "version": "3.5.3"
  }
 },
 "nbformat": 4,
 "nbformat_minor": 2
}
