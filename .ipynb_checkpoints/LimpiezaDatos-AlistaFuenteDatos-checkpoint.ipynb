{
 "cells": [
  {
   "cell_type": "markdown",
   "metadata": {},
   "source": [
    "## Este notebook genera la limpieza de las fuentes de It cloud del CRM, eventos y Facturacion desde el año 2013-2020 y genera un archivo consolidado de las 3 fuentes."
   ]
  },
  {
   "cell_type": "markdown",
   "metadata": {},
   "source": [
    "###### Este notebook fue creado por Francy Pineda estudiante de Maestria MINE 2018"
   ]
  },
  {
   "cell_type": "markdown",
   "metadata": {},
   "source": [
    "###### Se importan librerias necesarias"
   ]
  },
  {
   "cell_type": "code",
   "execution_count": 1,
   "metadata": {},
   "outputs": [],
   "source": [
    "import pandas as pd\n",
    "import numpy as np\n",
    "import matplotlib\n",
    "from matplotlib import pyplot as plt\n",
    "%matplotlib inline\n",
    "matplotlib.style.use('ggplot')\n",
    "import seaborn as sns\n",
    "import os\n",
    "from dateutil.parser import parse\n",
    "pd.options.display.max_rows = 350\n",
    "pd.options.display.max_columns = 350\n",
    "from scipy import stats\n"
   ]
  },
  {
   "cell_type": "markdown",
   "metadata": {},
   "source": [
    "##### Fuentes crm_clientes y eventos"
   ]
  },
  {
   "cell_type": "code",
   "execution_count": 2,
   "metadata": {},
   "outputs": [
    {
     "name": "stdout",
     "output_type": "stream",
     "text": [
      "/home/xubuntu/Documents/ProyectoFinalMINE/Datos/crm_eventos\n"
     ]
    }
   ],
   "source": [
    "%cd /home/xubuntu/Documents/ProyectoFinalMINE/Datos/crm_eventos\n",
    "crm_eventos = pd.read_excel('eventos_clientes.xlsx')"
   ]
  },
  {
   "cell_type": "code",
   "execution_count": 3,
   "metadata": {},
   "outputs": [
    {
     "name": "stdout",
     "output_type": "stream",
     "text": [
      "/home/xubuntu/Documents/ProyectoFinalMINE/Datos/crm_eventos\n"
     ]
    }
   ],
   "source": [
    "%cd /home/xubuntu/Documents/ProyectoFinalMINE/Datos/crm_eventos\n",
    "crm_clientes = pd.read_excel('crm_clientes.xlsx')"
   ]
  },
  {
   "cell_type": "markdown",
   "metadata": {},
   "source": [
    "##### Fuentes Facturacion 2013"
   ]
  },
  {
   "cell_type": "code",
   "execution_count": 4,
   "metadata": {},
   "outputs": [
    {
     "name": "stdout",
     "output_type": "stream",
     "text": [
      "/home/xubuntu/Documents/ProyectoFinalMINE/Datos/facturacion/2013\n"
     ]
    }
   ],
   "source": [
    "%cd   /home/xubuntu/Documents/ProyectoFinalMINE/Datos/facturacion/2013\n",
    "facturacion_julio_2013 = pd.read_excel('Julio2013.xls')\n",
    "facturacion_agosto_2013 = pd.read_excel('Agosto2013.xls')\n",
    "facturacion_septiembre_2013 = pd.read_excel('Septiembre2013.xls')\n",
    "facturacion_octubre_2013 = pd.read_excel('Octubre2013.xls')\n",
    "facturacion_noviembre_2013 = pd.read_excel('Novimbre2013.xls')\n",
    "facturacion_diciembre_2013 = pd.read_excel('Diciembre2013.xls')"
   ]
  },
  {
   "cell_type": "markdown",
   "metadata": {},
   "source": [
    "##### Fuentes Facturacion 2014"
   ]
  },
  {
   "cell_type": "code",
   "execution_count": 5,
   "metadata": {},
   "outputs": [
    {
     "name": "stdout",
     "output_type": "stream",
     "text": [
      "/home/xubuntu/Documents/ProyectoFinalMINE/Datos/facturacion/2014\n"
     ]
    }
   ],
   "source": [
    "%cd   /home/xubuntu/Documents/ProyectoFinalMINE/Datos/facturacion/2014\n",
    "facturacion_enero_2014 = pd.read_excel('Enero 2014.xls')\n",
    "facturacion_febrero_2014 = pd.read_excel('febrero 2014.xls')\n",
    "facturacion_marzo_2014 = pd.read_excel('Marzo2014.xls')\n",
    "facturacion_abril_2014 = pd.read_excel('Abril2014.xls')\n",
    "facturacion_mayo_2014 = pd.read_excel('mayo2014.xls')\n",
    "facturacion_junio_2014 = pd.read_excel('junio2014.xls')\n",
    "facturacion_julio_2014 = pd.read_excel('julio2014.xls')\n",
    "facturacion_agosto_2014 = pd.read_excel('Agosto2014.xls')\n",
    "facturacion_septiembre_2014 = pd.read_excel('Septiembre2014.xls')\n",
    "facturacion_octubre_2014 = pd.read_excel('Octubre2014.xls')\n",
    "facturacion_noviembre_2014 = pd.read_excel('noviembre2014.xls')\n",
    "facturacion_diciembre_2014 = pd.read_excel('Diciembre2014.xls')"
   ]
  },
  {
   "cell_type": "markdown",
   "metadata": {},
   "source": [
    "##### Fuentes Facturacion 2015"
   ]
  },
  {
   "cell_type": "code",
   "execution_count": 6,
   "metadata": {},
   "outputs": [
    {
     "name": "stdout",
     "output_type": "stream",
     "text": [
      "/home/xubuntu/Documents/ProyectoFinalMINE/Datos/facturacion/2015\n"
     ]
    }
   ],
   "source": [
    "%cd /home/xubuntu/Documents/ProyectoFinalMINE/Datos/facturacion/2015\n",
    "facturacion_enero_2015 = pd.read_excel('Enero2015.xls')\n",
    "facturacion_febrero_2015 = pd.read_excel('Febrero2015.xls')\n",
    "facturacion_marzo_2015 = pd.read_excel('Marzo2015.xls')\n",
    "facturacion_abril_2015 = pd.read_excel('Abril2015.xls')\n",
    "facturacion_mayo_2015 = pd.read_excel('Mayo2015.xls')\n",
    "facturacion_junio_2015 = pd.read_excel('Junio2015.xls')\n",
    "facturacion_julio_2015 = pd.read_excel('Julio2015.xls')\n",
    "facturacion_agosto_2015 = pd.read_excel('Agosto2015.xls')\n",
    "facturacion_septiembre_2015 = pd.read_excel('Septiembre2015.xls')\n",
    "facturacion_octubre_2015 = pd.read_excel('Octubre2015.xls')\n",
    "facturacion_noviembre_2015 = pd.read_excel('Noviembre2015.xls')\n",
    "facturacion_diciembre_2015 = pd.read_excel('Diciembre2015.xls')"
   ]
  },
  {
   "cell_type": "markdown",
   "metadata": {},
   "source": [
    "##### Fuentes Facturacion 2016"
   ]
  },
  {
   "cell_type": "code",
   "execution_count": 7,
   "metadata": {},
   "outputs": [
    {
     "name": "stdout",
     "output_type": "stream",
     "text": [
      "/home/xubuntu/Documents/ProyectoFinalMINE/Datos/facturacion/2016\n"
     ]
    }
   ],
   "source": [
    "%cd   /home/xubuntu/Documents/ProyectoFinalMINE/Datos/facturacion/2016\n",
    "facturacion_enero_2016 = pd.read_excel('Enero2016.xls')\n",
    "facturacion_febrero_2016 = pd.read_excel('Febrero2016.xls')\n",
    "facturacion_marzo_2016 = pd.read_excel('MArzo2016.xls')\n",
    "facturacion_abril_2016 = pd.read_excel('Abril2016.xls')\n",
    "facturacion_mayo_2016 = pd.read_excel('MAyo2016.xls')\n",
    "facturacion_junio_2016 = pd.read_excel('junio2016.xls')\n",
    "facturacion_julio_2016 = pd.read_excel('Julio2016.xls')\n",
    "facturacion_agosto_2016 = pd.read_excel('Agosto2016.xls')\n",
    "facturacion_septiembre_2016 = pd.read_excel('Septiembre2016.xls')\n",
    "facturacion_octubre_2016 = pd.read_excel('Octubre2016.xls')\n",
    "facturacion_noviembre_2016 = pd.read_excel('Noviembre2016.xls')\n",
    "facturacion_diciembre_2016 = pd.read_excel('Diciembre2016.xls')"
   ]
  },
  {
   "cell_type": "markdown",
   "metadata": {},
   "source": [
    "##### Fuentes Facturacion 2017"
   ]
  },
  {
   "cell_type": "code",
   "execution_count": 8,
   "metadata": {},
   "outputs": [
    {
     "name": "stdout",
     "output_type": "stream",
     "text": [
      "/home/xubuntu/Documents/ProyectoFinalMINE/Datos/facturacion/2017\n"
     ]
    }
   ],
   "source": [
    "%cd    /home/xubuntu/Documents/ProyectoFinalMINE/Datos/facturacion/2017\n",
    "facturacion_enero_2017 = pd.read_excel('Enero2017.xls')\n",
    "facturacion_febrero_2017 = pd.read_excel('Febrero2017.xls')\n",
    "facturacion_marzo_2017 = pd.read_excel('Marzo2017.xls')\n",
    "facturacion_abril_2017 = pd.read_excel('Abril2017.xls')\n",
    "facturacion_mayo_2017 = pd.read_excel('Mayo2017.xls')\n",
    "facturacion_junio_2017 = pd.read_excel('Junio2017.xls')\n",
    "facturacion_julio_2017 = pd.read_excel('Julio2017.xls')\n",
    "facturacion_agosto_2017 = pd.read_excel('Agosto2017.xls')\n",
    "facturacion_septiembre_2017 = pd.read_excel('Septiembre2017.xls')\n",
    "facturacion_octubre_2017 = pd.read_excel('Octubre2017.xls')\n",
    "facturacion_noviembre_2017 = pd.read_excel('Noviembre2017.xls')\n",
    "facturacion_diciembre_2017 = pd.read_excel('Diciembre2017.xls')"
   ]
  },
  {
   "cell_type": "markdown",
   "metadata": {},
   "source": [
    "##### Fuentes Facturacion 2018"
   ]
  },
  {
   "cell_type": "code",
   "execution_count": 9,
   "metadata": {},
   "outputs": [
    {
     "name": "stdout",
     "output_type": "stream",
     "text": [
      "/home/xubuntu/Documents/ProyectoFinalMINE/Datos/facturacion/2018\n"
     ]
    }
   ],
   "source": [
    "%cd /home/xubuntu/Documents/ProyectoFinalMINE/Datos/facturacion/2018\n",
    "facturacion_enero_2018 = pd.read_excel('Enero2018.xls')\n",
    "facturacion_febrero_2018 = pd.read_excel('Febrero2018.xls')\n",
    "facturacion_marzo_2018 = pd.read_excel('Marzo2018.xls')\n",
    "facturacion_abril_2018 = pd.read_excel('Abril2018.xls')\n",
    "facturacion_mayo_2018 = pd.read_excel('Mayo2018.xls')\n",
    "facturacion_junio_2018 = pd.read_excel('Junio2018.xls')\n",
    "facturacion_julio_2018 = pd.read_excel('Julio2018.xls')\n",
    "facturacion_agosto_2018 = pd.read_excel('Agosto2018.xls')\n",
    "facturacion_septiembre_2018 = pd.read_excel('Septiembre2018.xls')\n",
    "facturacion_octubre_2018 = pd.read_excel('Octubre2018.xls')\n",
    "facturacion_noviembre_2018 = pd.read_excel('Noviembre2018.xls')\n",
    "facturacion_diciembre_2018 = pd.read_excel('Diciembre2018.xls')"
   ]
  },
  {
   "cell_type": "markdown",
   "metadata": {},
   "source": [
    "##### Fuentes Facturacion 2019"
   ]
  },
  {
   "cell_type": "code",
   "execution_count": 10,
   "metadata": {},
   "outputs": [
    {
     "name": "stdout",
     "output_type": "stream",
     "text": [
      "/home/xubuntu/Documents/ProyectoFinalMINE/Datos/facturacion/2019\n"
     ]
    }
   ],
   "source": [
    "%cd     /home/xubuntu/Documents/ProyectoFinalMINE/Datos/facturacion/2019\n",
    "facturacion_enero_2019 = pd.read_excel('Enero2019.xls')\n",
    "facturacion_febrero_2019 = pd.read_excel('Febrero2019.xls')\n",
    "facturacion_marzo_2019 = pd.read_excel('Marzo2019.xls')\n",
    "facturacion_abril_2019 = pd.read_excel('Abril2019.xls')\n",
    "facturacion_mayo_2019 = pd.read_excel('Mayo2019.xls')\n",
    "facturacion_junio_2019 = pd.read_excel('Junio2019.xls')\n",
    "facturacion_julio_2019 = pd.read_excel('Julio2019.xls')\n",
    "facturacion_agosto_2019 = pd.read_excel('Agosto2019.xls')\n",
    "facturacion_septiembre_2019 = pd.read_excel('Septiembre2019.xls')\n",
    "facturacion_octubre_2019 = pd.read_excel('Octubre2019.xls')\n",
    "facturacion_noviembre_2019 = pd.read_excel('Noviembre2019.xls')\n",
    "facturacion_diciembre_2019 = pd.read_excel('Diciembre2019.xls')"
   ]
  },
  {
   "cell_type": "markdown",
   "metadata": {},
   "source": [
    "##### Fuentes Facturacion 2020"
   ]
  },
  {
   "cell_type": "code",
   "execution_count": 11,
   "metadata": {},
   "outputs": [
    {
     "name": "stdout",
     "output_type": "stream",
     "text": [
      "/home/xubuntu/Documents/ProyectoFinalMINE/Datos/facturacion/2020\n"
     ]
    }
   ],
   "source": [
    "%cd     /home/xubuntu/Documents/ProyectoFinalMINE/Datos/facturacion/2020\n",
    "facturacion_enero_2020 = pd.read_excel('Enero2020.xls')\n",
    "facturacion_febrero_2020 = pd.read_excel('Febrero2020.xls')\n",
    "facturacion_marzo_2020 = pd.read_excel('Marzo2020.xls')\n",
    "facturacion_abril_2020 = pd.read_excel('Abril2020.xls')\n",
    "facturacion_mayo_2020 = pd.read_excel('Mayo2020.xls')\n",
    "facturacion_junio_2020 = pd.read_excel('Junio2020.xls')\n",
    "facturacion_julio_2020 = pd.read_excel('Julio2020.xls')\n",
    "facturacion_agosto_2020 = pd.read_excel('Agosto2020.xls')\n",
    "facturacion_septiembre_2020 = pd.read_excel('Septiembre2020.xls')\n",
    "facturacion_octubre_2020 = pd.read_excel('Octubre2020.xls')\n",
    "facturacion_noviembre_2020 = pd.read_excel('Noviembre2020.xls')\n",
    "facturacion_diciembre_2020 = pd.read_excel('Diciembre2020.xls')"
   ]
  },
  {
   "cell_type": "markdown",
   "metadata": {},
   "source": [
    "##### CONCATENANDO LAS FUENTES DE FACTURACION POR AÑO"
   ]
  },
  {
   "cell_type": "code",
   "execution_count": 12,
   "metadata": {},
   "outputs": [],
   "source": [
    "frames20 = [facturacion_enero_2020,facturacion_febrero_2020,facturacion_marzo_2020,facturacion_abril_2020 ,facturacion_mayo_2020 ,facturacion_junio_2020,facturacion_julio_2020,facturacion_agosto_2020,facturacion_septiembre_2020,facturacion_octubre_2020,facturacion_noviembre_2020,facturacion_diciembre_2020 ] \n",
    "frames19 = [facturacion_enero_2019,facturacion_febrero_2019,facturacion_marzo_2019,facturacion_abril_2019 ,facturacion_mayo_2019 ,facturacion_junio_2019,facturacion_julio_2019,facturacion_agosto_2019,facturacion_septiembre_2019,facturacion_octubre_2019,facturacion_noviembre_2019,facturacion_diciembre_2019 ]\n",
    "frames18 = [facturacion_enero_2018,facturacion_febrero_2018,facturacion_marzo_2018,facturacion_abril_2018 ,facturacion_mayo_2018 ,facturacion_junio_2018,facturacion_julio_2018,facturacion_agosto_2018,facturacion_septiembre_2018,facturacion_octubre_2018,facturacion_noviembre_2018,facturacion_diciembre_2018 ]\n",
    "frames17 = [facturacion_enero_2017,facturacion_febrero_2017,facturacion_marzo_2017,facturacion_abril_2017 ,facturacion_mayo_2017 ,facturacion_junio_2017,facturacion_julio_2017,facturacion_agosto_2017,facturacion_septiembre_2017,facturacion_octubre_2017,facturacion_noviembre_2017,facturacion_diciembre_2017 ] \n",
    "frames16 = [facturacion_enero_2016,facturacion_febrero_2016,facturacion_marzo_2016,facturacion_abril_2016 ,facturacion_mayo_2016 ,facturacion_junio_2016,facturacion_julio_2016,facturacion_agosto_2016,facturacion_septiembre_2016,facturacion_octubre_2016,facturacion_noviembre_2016,facturacion_diciembre_2016 ]\n",
    "frames15 = [facturacion_enero_2015,facturacion_febrero_2015,facturacion_marzo_2015,facturacion_abril_2015 ,facturacion_mayo_2015 ,facturacion_junio_2015,facturacion_julio_2015,facturacion_agosto_2015,facturacion_septiembre_2015,facturacion_octubre_2015,facturacion_noviembre_2015,facturacion_diciembre_2015 ]\n",
    "frames14 = [facturacion_enero_2014,facturacion_febrero_2014,facturacion_marzo_2014,facturacion_abril_2014 ,facturacion_mayo_2014 ,facturacion_junio_2014,facturacion_julio_2014,facturacion_agosto_2014,facturacion_septiembre_2014,facturacion_octubre_2014,facturacion_noviembre_2014,facturacion_diciembre_2014 ]\n",
    "frames13 = [facturacion_julio_2013,facturacion_agosto_2013,facturacion_septiembre_2013,facturacion_octubre_2013,facturacion_noviembre_2013,facturacion_diciembre_2013 ]\n",
    "\n",
    "fact_2020 = pd.concat(frames20)\n",
    "fact_2019 = pd.concat(frames19)\n",
    "fact_2018 = pd.concat(frames18)\n",
    "fact_2017 = pd.concat(frames17)\n",
    "fact_2016 = pd.concat(frames16)\n",
    "fact_2015 = pd.concat(frames15)\n",
    "fact_2014 = pd.concat(frames14)\n",
    "fact_2013 = pd.concat(frames13)\n",
    "frames=[fact_2013,fact_2014,fact_2015,fact_2016,fact_2017,fact_2018,fact_2019,fact_2020]\n",
    "facturacion_total = pd.concat(frames) # Contiene toda la informacion de facturacion"
   ]
  },
  {
   "cell_type": "code",
   "execution_count": null,
   "metadata": {},
   "outputs": [
    {
     "name": "stdout",
     "output_type": "stream",
     "text": [
      "[Errno 2] No such file or directory: '/home/xubuntu/Documents/ProyectoFinalMINE/Datos/Salidas'\n",
      "/home/xubuntu/Documents/ProyectoFinalMINE/Datos\n"
     ]
    }
   ],
   "source": [
    "%cd     /home/xubuntu/Documents/ProyectoFinalMINE/Datos/Salidas\n",
    "facturacion_total.to_excel(\"facturacion_completa.xlsx\")"
   ]
  },
  {
   "cell_type": "code",
   "execution_count": 14,
   "metadata": {},
   "outputs": [
    {
     "data": {
      "text/plain": [
       "(3866, 31)"
      ]
     },
     "execution_count": 14,
     "metadata": {},
     "output_type": "execute_result"
    }
   ],
   "source": [
    "facturacion_total.shape"
   ]
  },
  {
   "cell_type": "code",
   "execution_count": 26,
   "metadata": {},
   "outputs": [
    {
     "data": {
      "text/html": [
       "<div>\n",
       "<style scoped>\n",
       "    .dataframe tbody tr th:only-of-type {\n",
       "        vertical-align: middle;\n",
       "    }\n",
       "\n",
       "    .dataframe tbody tr th {\n",
       "        vertical-align: top;\n",
       "    }\n",
       "\n",
       "    .dataframe thead th {\n",
       "        text-align: right;\n",
       "    }\n",
       "</style>\n",
       "<table border=\"1\" class=\"dataframe\">\n",
       "  <thead>\n",
       "    <tr style=\"text-align: right;\">\n",
       "      <th></th>\n",
       "      <th>Tipo Doc.</th>\n",
       "      <th>Pre</th>\n",
       "      <th>No. Doc.</th>\n",
       "      <th>Orden/Lugar Entrega</th>\n",
       "      <th>ID Empresa</th>\n",
       "      <th>Tipo de Factura</th>\n",
       "      <th>Estado</th>\n",
       "      <th>ID. Cliente</th>\n",
       "      <th>ID. Int. Cliente</th>\n",
       "      <th>ID Interno</th>\n",
       "      <th>Nombre del Cliente</th>\n",
       "      <th>Año</th>\n",
       "      <th>Mes</th>\n",
       "      <th>Fecha Exp.</th>\n",
       "      <th>Fecha Hora Generación</th>\n",
       "      <th>Moneda</th>\n",
       "      <th>Vendedor</th>\n",
       "      <th>Cód. Vendedor</th>\n",
       "      <th>SubTotal</th>\n",
       "      <th>IVA</th>\n",
       "      <th>Descuento</th>\n",
       "      <th>Otros</th>\n",
       "      <th>Total Retención</th>\n",
       "      <th>Total</th>\n",
       "      <th>Total A Pagar</th>\n",
       "      <th>Ver</th>\n",
       "      <th>Ver.1</th>\n",
       "      <th>Estado Notificación</th>\n",
       "      <th>Teléfono</th>\n",
       "      <th>Correos Electrónicos Cliente</th>\n",
       "      <th>Correos Electrónicos Enviados</th>\n",
       "    </tr>\n",
       "  </thead>\n",
       "  <tbody>\n",
       "    <tr>\n",
       "      <th>0</th>\n",
       "      <td>Factura</td>\n",
       "      <td>IT</td>\n",
       "      <td>3.0</td>\n",
       "      <td>NaN</td>\n",
       "      <td>98.0</td>\n",
       "      <td>Electrónica</td>\n",
       "      <td>Anulada</td>\n",
       "      <td>9.00227e+08</td>\n",
       "      <td>9.00227e+08</td>\n",
       "      <td>9.00227e+08</td>\n",
       "      <td>Contact Center Colombia C3 SAS</td>\n",
       "      <td>2013.0</td>\n",
       "      <td>7.0</td>\n",
       "      <td>2013-07-22</td>\n",
       "      <td>2013-07-22 19:38:35.820</td>\n",
       "      <td>COP</td>\n",
       "      <td>Indefinido</td>\n",
       "      <td>NaN</td>\n",
       "      <td>900000.0</td>\n",
       "      <td>144000.0</td>\n",
       "      <td>0.0</td>\n",
       "      <td>0.0</td>\n",
       "      <td>0.0</td>\n",
       "      <td>1044000.0</td>\n",
       "      <td>NaN</td>\n",
       "      <td>322926.0</td>\n",
       "      <td>322926.0</td>\n",
       "      <td>NaN</td>\n",
       "      <td>4.86202e+06</td>\n",
       "      <td>aduenas@c3colombia.com</td>\n",
       "      <td>NaN</td>\n",
       "    </tr>\n",
       "    <tr>\n",
       "      <th>1</th>\n",
       "      <td>Factura</td>\n",
       "      <td>IT</td>\n",
       "      <td>2.0</td>\n",
       "      <td>NaN</td>\n",
       "      <td>98.0</td>\n",
       "      <td>Electrónica</td>\n",
       "      <td>Entregada</td>\n",
       "      <td>9.00227e+08</td>\n",
       "      <td>9.00227e+08</td>\n",
       "      <td>9.00227e+08</td>\n",
       "      <td>Contact Center Colombia C3 SAS</td>\n",
       "      <td>2013.0</td>\n",
       "      <td>7.0</td>\n",
       "      <td>2013-07-19</td>\n",
       "      <td>2013-07-19 21:11:20.777</td>\n",
       "      <td>COP</td>\n",
       "      <td>Wilson Rojas P</td>\n",
       "      <td>NaN</td>\n",
       "      <td>11353185.0</td>\n",
       "      <td>1816509.6</td>\n",
       "      <td>0.0</td>\n",
       "      <td>0.0</td>\n",
       "      <td>0.0</td>\n",
       "      <td>13169694.6</td>\n",
       "      <td>NaN</td>\n",
       "      <td>322065.0</td>\n",
       "      <td>322065.0</td>\n",
       "      <td>NaN</td>\n",
       "      <td>4.86202e+06</td>\n",
       "      <td>aduenas@c3colombia.com</td>\n",
       "      <td>NaN</td>\n",
       "    </tr>\n",
       "  </tbody>\n",
       "</table>\n",
       "</div>"
      ],
      "text/plain": [
       "  Tipo Doc. Pre  No. Doc.  Orden/Lugar Entrega  ID Empresa Tipo de Factura  \\\n",
       "0   Factura  IT       3.0                  NaN        98.0     Electrónica   \n",
       "1   Factura  IT       2.0                  NaN        98.0     Electrónica   \n",
       "\n",
       "      Estado  ID. Cliente ID. Int. Cliente   ID Interno  \\\n",
       "0    Anulada  9.00227e+08      9.00227e+08  9.00227e+08   \n",
       "1  Entregada  9.00227e+08      9.00227e+08  9.00227e+08   \n",
       "\n",
       "               Nombre del Cliente     Año  Mes Fecha Exp.  \\\n",
       "0  Contact Center Colombia C3 SAS  2013.0  7.0 2013-07-22   \n",
       "1  Contact Center Colombia C3 SAS  2013.0  7.0 2013-07-19   \n",
       "\n",
       "    Fecha Hora Generación Moneda        Vendedor  Cód. Vendedor    SubTotal  \\\n",
       "0 2013-07-22 19:38:35.820    COP      Indefinido            NaN    900000.0   \n",
       "1 2013-07-19 21:11:20.777    COP  Wilson Rojas P            NaN  11353185.0   \n",
       "\n",
       "         IVA  Descuento  Otros  Total Retención       Total  Total A Pagar  \\\n",
       "0   144000.0        0.0    0.0              0.0   1044000.0            NaN   \n",
       "1  1816509.6        0.0    0.0              0.0  13169694.6            NaN   \n",
       "\n",
       "        Ver     Ver.1 Estado Notificación     Teléfono  \\\n",
       "0  322926.0  322926.0                 NaN  4.86202e+06   \n",
       "1  322065.0  322065.0                 NaN  4.86202e+06   \n",
       "\n",
       "  Correos Electrónicos Cliente Correos Electrónicos Enviados  \n",
       "0       aduenas@c3colombia.com                           NaN  \n",
       "1       aduenas@c3colombia.com                           NaN  "
      ]
     },
     "execution_count": 26,
     "metadata": {},
     "output_type": "execute_result"
    }
   ],
   "source": [
    "facturacion_total.head(2)"
   ]
  },
  {
   "cell_type": "markdown",
   "metadata": {},
   "source": [
    "###### Agrupacion de ventas por cliente en los años, solo las facturas validas para colombia "
   ]
  },
  {
   "cell_type": "code",
   "execution_count": 27,
   "metadata": {},
   "outputs": [],
   "source": [
    "facturacion_total=facturacion_total.loc[(facturacion_total['Moneda'] =='COP')]\n",
    "facturacion_total=facturacion_total.loc[facturacion_total['Estado'].isin(['Entregada', 'Aceptada', 'Creada', 'Modificada'])]"
   ]
  },
  {
   "cell_type": "code",
   "execution_count": 28,
   "metadata": {},
   "outputs": [],
   "source": [
    "facturacion_por_cliente= facturacion_total.groupby('Correos Electrónicos Cliente')['SubTotal'].sum().reset_index()"
   ]
  },
  {
   "cell_type": "markdown",
   "metadata": {},
   "source": [
    "##### Se calcula la longitud del correo para evitar  valores como: * . 0 '' "
   ]
  },
  {
   "cell_type": "code",
   "execution_count": 29,
   "metadata": {},
   "outputs": [],
   "source": [
    "crm_clientes[\"correoItcloud\"] = crm_clientes[\"correoItcloud\"].astype('str')    \n",
    "crm_clientes[\"longitud\"] = crm_clientes['correoItcloud'].apply(lambda x: len(x))"
   ]
  },
  {
   "cell_type": "code",
   "execution_count": 30,
   "metadata": {},
   "outputs": [
    {
     "name": "stderr",
     "output_type": "stream",
     "text": [
      "/home/xubuntu/anaconda3/lib/python3.6/site-packages/ipykernel_launcher.py:4: SettingWithCopyWarning: \n",
      "A value is trying to be set on a copy of a slice from a DataFrame.\n",
      "Try using .loc[row_indexer,col_indexer] = value instead\n",
      "\n",
      "See the caveats in the documentation: http://pandas.pydata.org/pandas-docs/stable/indexing.html#indexing-view-versus-copy\n",
      "  after removing the cwd from sys.path.\n"
     ]
    }
   ],
   "source": [
    "crm_clientes_con_id=crm_clientes.loc[(crm_clientes['longitud'] >=4)]\n",
    "\n",
    "#SE UNIFICA EL TIPO DE DATO PARA EL MERGE\n",
    "crm_clientes_con_id[\"correoItcloud\"] = crm_clientes[\"correoItcloud\"].astype('str') \n",
    "facturacion_por_cliente[\"Correos Electrónicos Cliente\"] = facturacion_por_cliente[\"Correos Electrónicos Cliente\"].astype('str') "
   ]
  },
  {
   "cell_type": "code",
   "execution_count": 31,
   "metadata": {},
   "outputs": [
    {
     "data": {
      "text/plain": [
       "(1419,)"
      ]
     },
     "execution_count": 31,
     "metadata": {},
     "output_type": "execute_result"
    }
   ],
   "source": [
    "crm_clientes_con_id['correoItcloud'].shape"
   ]
  },
  {
   "cell_type": "code",
   "execution_count": 32,
   "metadata": {},
   "outputs": [
    {
     "data": {
      "text/plain": [
       "1377"
      ]
     },
     "execution_count": 32,
     "metadata": {},
     "output_type": "execute_result"
    }
   ],
   "source": [
    "crm_clientes_con_id['correoItcloud'].nunique()"
   ]
  },
  {
   "cell_type": "code",
   "execution_count": 33,
   "metadata": {},
   "outputs": [],
   "source": [
    "# Se borran clientes duplicados con el correo (PENDIENTE REVISAR PORQUE)\n",
    "crm_clientes_con_id_unicos = crm_clientes_con_id.drop_duplicates(subset=['correoItcloud'], keep=False)"
   ]
  },
  {
   "cell_type": "markdown",
   "metadata": {},
   "source": [
    "##### Se realiza el merge de las fuentes de facturación y  clientes de crm."
   ]
  },
  {
   "cell_type": "code",
   "execution_count": 35,
   "metadata": {},
   "outputs": [
    {
     "data": {
      "text/html": [
       "<div>\n",
       "<style scoped>\n",
       "    .dataframe tbody tr th:only-of-type {\n",
       "        vertical-align: middle;\n",
       "    }\n",
       "\n",
       "    .dataframe tbody tr th {\n",
       "        vertical-align: top;\n",
       "    }\n",
       "\n",
       "    .dataframe thead th {\n",
       "        text-align: right;\n",
       "    }\n",
       "</style>\n",
       "<table border=\"1\" class=\"dataframe\">\n",
       "  <thead>\n",
       "    <tr style=\"text-align: right;\">\n",
       "      <th></th>\n",
       "      <th>id</th>\n",
       "      <th>TipoUsuario</th>\n",
       "      <th>Prioridad</th>\n",
       "      <th>producto</th>\n",
       "      <th>nombre</th>\n",
       "      <th>empresa</th>\n",
       "      <th>Sector</th>\n",
       "      <th>ciudad</th>\n",
       "      <th>correo</th>\n",
       "      <th>correo.1</th>\n",
       "      <th>correo2</th>\n",
       "      <th>correoItcloud</th>\n",
       "      <th>corre</th>\n",
       "      <th>correo.2</th>\n",
       "      <th>Comentario inicial del cliente</th>\n",
       "      <th>Negociacion</th>\n",
       "      <th>Tipo Cotizacion a enviar</th>\n",
       "      <th>comercial</th>\n",
       "      <th>ip</th>\n",
       "      <th>navegador</th>\n",
       "      <th>Fecha creacion</th>\n",
       "      <th>estado</th>\n",
       "      <th>longitud</th>\n",
       "      <th>Correos Electrónicos Cliente</th>\n",
       "      <th>SubTotal</th>\n",
       "    </tr>\n",
       "  </thead>\n",
       "  <tbody>\n",
       "    <tr>\n",
       "      <th>0</th>\n",
       "      <td>5</td>\n",
       "      <td>Usuario_Final</td>\n",
       "      <td>2_Alta</td>\n",
       "      <td>Sms_Salida</td>\n",
       "      <td>Lorena -3184633886</td>\n",
       "      <td>UB CUARENTA</td>\n",
       "      <td>NaN</td>\n",
       "      <td>Bogota</td>\n",
       "      <td>0</td>\n",
       "      <td>comunicacionvisual@cvr.com.co</td>\n",
       "      <td>0</td>\n",
       "      <td>gerencia@cvr.com.co</td>\n",
       "      <td>0</td>\n",
       "      <td>0</td>\n",
       "      <td>este cliente ya habia enviado..se renegocia pr...</td>\n",
       "      <td></td>\n",
       "      <td>SMS_Correo_CON_Precio</td>\n",
       "      <td>ccastellanos</td>\n",
       "      <td>200.47.156.195</td>\n",
       "      <td>Mozilla</td>\n",
       "      <td>2014-11-24 07:32:42</td>\n",
       "      <td>en_proceso_Con_Venta</td>\n",
       "      <td>19</td>\n",
       "      <td>gerencia@cvr.com.co</td>\n",
       "      <td>1431032.0</td>\n",
       "    </tr>\n",
       "    <tr>\n",
       "      <th>1</th>\n",
       "      <td>14</td>\n",
       "      <td>Usuario_Final</td>\n",
       "      <td>2_Alta</td>\n",
       "      <td>Sms_Salida</td>\n",
       "      <td>Yurani Amesquita O  HEIDY MILENA ORTIZ DIAZ **</td>\n",
       "      <td>COMFAMILIAR HUILA</td>\n",
       "      <td>NaN</td>\n",
       "      <td>Neiva</td>\n",
       "      <td>0</td>\n",
       "      <td>callcenter@comfamiliarhuila.com</td>\n",
       "      <td>heidymilenaortiz@gmail.com</td>\n",
       "      <td>ly1329@hotmail.com</td>\n",
       "      <td>0</td>\n",
       "      <td>0</td>\n",
       "      <td>A estos correos se envia el certificadode segu...</td>\n",
       "      <td>SMS A $25  negociado con     Yurani           ...</td>\n",
       "      <td>No_Enviar_Mail</td>\n",
       "      <td>mpineda</td>\n",
       "      <td>200.47.156.195</td>\n",
       "      <td>Mozilla</td>\n",
       "      <td>2014-11-24 08:16:32</td>\n",
       "      <td>en_proceso_Con_Venta</td>\n",
       "      <td>18</td>\n",
       "      <td>ly1329@hotmail.com</td>\n",
       "      <td>22977190.0</td>\n",
       "    </tr>\n",
       "  </tbody>\n",
       "</table>\n",
       "</div>"
      ],
      "text/plain": [
       "   id    TipoUsuario Prioridad    producto  \\\n",
       "0   5  Usuario_Final    2_Alta  Sms_Salida   \n",
       "1  14  Usuario_Final    2_Alta  Sms_Salida   \n",
       "\n",
       "                                           nombre            empresa  Sector  \\\n",
       "0                              Lorena -3184633886        UB CUARENTA     NaN   \n",
       "1  Yurani Amesquita O  HEIDY MILENA ORTIZ DIAZ **  COMFAMILIAR HUILA     NaN   \n",
       "\n",
       "   ciudad  correo                         correo.1  \\\n",
       "0  Bogota       0    comunicacionvisual@cvr.com.co   \n",
       "1   Neiva       0  callcenter@comfamiliarhuila.com   \n",
       "\n",
       "                      correo2        correoItcloud corre correo.2  \\\n",
       "0                           0  gerencia@cvr.com.co     0        0   \n",
       "1  heidymilenaortiz@gmail.com   ly1329@hotmail.com     0        0   \n",
       "\n",
       "                      Comentario inicial del cliente  \\\n",
       "0  este cliente ya habia enviado..se renegocia pr...   \n",
       "1  A estos correos se envia el certificadode segu...   \n",
       "\n",
       "                                         Negociacion Tipo Cotizacion a enviar  \\\n",
       "0                                                       SMS_Correo_CON_Precio   \n",
       "1  SMS A $25  negociado con     Yurani           ...           No_Enviar_Mail   \n",
       "\n",
       "      comercial              ip navegador     Fecha creacion   \\\n",
       "0  ccastellanos  200.47.156.195   Mozilla 2014-11-24 07:32:42   \n",
       "1       mpineda  200.47.156.195   Mozilla 2014-11-24 08:16:32   \n",
       "\n",
       "                 estado  longitud Correos Electrónicos Cliente    SubTotal  \n",
       "0  en_proceso_Con_Venta        19          gerencia@cvr.com.co   1431032.0  \n",
       "1  en_proceso_Con_Venta        18           ly1329@hotmail.com  22977190.0  "
      ]
     },
     "execution_count": 35,
     "metadata": {},
     "output_type": "execute_result"
    }
   ],
   "source": [
    "crm_con_ventas =  pd.merge(crm_clientes_con_id_unicos, facturacion_por_cliente, how='inner', left_on=['correoItcloud'],right_on=['Correos Electrónicos Cliente'])\n",
    "crm_con_ventas.head(2)"
   ]
  },
  {
   "cell_type": "code",
   "execution_count": 39,
   "metadata": {},
   "outputs": [
    {
     "name": "stdout",
     "output_type": "stream",
     "text": [
      "El total de clientes en crm_clientes es: 2880\n",
      "El total de clientes en Facturacion es: 448\n",
      "El total de dataset completo es: 376\n",
      "Se estan perdiendo   :74 registros\n"
     ]
    }
   ],
   "source": [
    "#Se verifica las cantidades del merge\n",
    "print (\"El total de clientes en crm_clientes es: \", end=\"\")\n",
    "print (len(crm_clientes[\"correoItcloud\"]))\n",
    "print (\"El total de clientes en Facturacion es: \", end=\"\")\n",
    "print (len(facturacion_por_cliente[\"Correos Electrónicos Cliente\"]))\n",
    "print (\"El total de dataset completo es: \", end=\"\")\n",
    "print (len(crm_con_ventas[\"correoItcloud\"]))\n",
    "print (\"Se estan perdiendo   :\", end=\"\")\n",
    "print (452-378, end=\"\")\n",
    "print (\" registros\")"
   ]
  },
  {
   "cell_type": "markdown",
   "metadata": {},
   "source": [
    "###### SE SEPARAN LOS AÑOS DE PAGO y se selecciona facturacion en COP Y facturas validas"
   ]
  },
  {
   "cell_type": "code",
   "execution_count": 40,
   "metadata": {},
   "outputs": [
    {
     "data": {
      "text/html": [
       "<div>\n",
       "<style scoped>\n",
       "    .dataframe tbody tr th:only-of-type {\n",
       "        vertical-align: middle;\n",
       "    }\n",
       "\n",
       "    .dataframe tbody tr th {\n",
       "        vertical-align: top;\n",
       "    }\n",
       "\n",
       "    .dataframe thead th {\n",
       "        text-align: right;\n",
       "    }\n",
       "</style>\n",
       "<table border=\"1\" class=\"dataframe\">\n",
       "  <thead>\n",
       "    <tr style=\"text-align: right;\">\n",
       "      <th></th>\n",
       "      <th>Tipo Doc.</th>\n",
       "      <th>Pre</th>\n",
       "      <th>No. Doc.</th>\n",
       "      <th>Orden/Lugar Entrega</th>\n",
       "      <th>ID Empresa</th>\n",
       "      <th>Tipo de Factura</th>\n",
       "      <th>Estado</th>\n",
       "      <th>ID. Cliente</th>\n",
       "      <th>ID. Int. Cliente</th>\n",
       "      <th>ID Interno</th>\n",
       "      <th>Nombre del Cliente</th>\n",
       "      <th>Año</th>\n",
       "      <th>Mes</th>\n",
       "      <th>Fecha Exp.</th>\n",
       "      <th>Fecha Hora Generación</th>\n",
       "      <th>Moneda</th>\n",
       "      <th>Vendedor</th>\n",
       "      <th>Cód. Vendedor</th>\n",
       "      <th>SubTotal</th>\n",
       "      <th>IVA</th>\n",
       "      <th>Descuento</th>\n",
       "      <th>Otros</th>\n",
       "      <th>Total Retención</th>\n",
       "      <th>Total</th>\n",
       "      <th>Total A Pagar</th>\n",
       "      <th>Ver</th>\n",
       "      <th>Ver.1</th>\n",
       "      <th>Estado Notificación</th>\n",
       "      <th>Teléfono</th>\n",
       "      <th>Correos Electrónicos Cliente</th>\n",
       "      <th>Correos Electrónicos Enviados</th>\n",
       "    </tr>\n",
       "  </thead>\n",
       "  <tbody>\n",
       "    <tr>\n",
       "      <th>1</th>\n",
       "      <td>Factura</td>\n",
       "      <td>IT</td>\n",
       "      <td>2.0</td>\n",
       "      <td>NaN</td>\n",
       "      <td>98.0</td>\n",
       "      <td>Electrónica</td>\n",
       "      <td>Entregada</td>\n",
       "      <td>9.00227e+08</td>\n",
       "      <td>9.00227e+08</td>\n",
       "      <td>9.00227e+08</td>\n",
       "      <td>Contact Center Colombia C3 SAS</td>\n",
       "      <td>2013.0</td>\n",
       "      <td>7.0</td>\n",
       "      <td>2013-07-19</td>\n",
       "      <td>2013-07-19 21:11:20.777</td>\n",
       "      <td>COP</td>\n",
       "      <td>Wilson Rojas P</td>\n",
       "      <td>NaN</td>\n",
       "      <td>11353185.0</td>\n",
       "      <td>1816509.6</td>\n",
       "      <td>0.0</td>\n",
       "      <td>0.0</td>\n",
       "      <td>0.0</td>\n",
       "      <td>13169694.6</td>\n",
       "      <td>NaN</td>\n",
       "      <td>322065.0</td>\n",
       "      <td>322065.0</td>\n",
       "      <td>NaN</td>\n",
       "      <td>4.86202e+06</td>\n",
       "      <td>aduenas@c3colombia.com</td>\n",
       "      <td>NaN</td>\n",
       "    </tr>\n",
       "    <tr>\n",
       "      <th>2</th>\n",
       "      <td>Factura</td>\n",
       "      <td>IT</td>\n",
       "      <td>1.0</td>\n",
       "      <td>NaN</td>\n",
       "      <td>98.0</td>\n",
       "      <td>Por Computador</td>\n",
       "      <td>Entregada</td>\n",
       "      <td>9.00227e+08</td>\n",
       "      <td>9.00227e+08</td>\n",
       "      <td>9.00227e+08</td>\n",
       "      <td>Contact Center Colombia C3 SAS</td>\n",
       "      <td>2013.0</td>\n",
       "      <td>7.0</td>\n",
       "      <td>2013-07-16</td>\n",
       "      <td>2013-07-16 08:18:06.617</td>\n",
       "      <td>COP</td>\n",
       "      <td>Wilson Rojas P</td>\n",
       "      <td>NaN</td>\n",
       "      <td>3934750.0</td>\n",
       "      <td>629560.0</td>\n",
       "      <td>0.0</td>\n",
       "      <td>0.0</td>\n",
       "      <td>0.0</td>\n",
       "      <td>4564310.0</td>\n",
       "      <td>NaN</td>\n",
       "      <td>320069.0</td>\n",
       "      <td>320069.0</td>\n",
       "      <td>NaN</td>\n",
       "      <td>4.86202e+06</td>\n",
       "      <td>aduenas@c3colombia.com</td>\n",
       "      <td>NaN</td>\n",
       "    </tr>\n",
       "  </tbody>\n",
       "</table>\n",
       "</div>"
      ],
      "text/plain": [
       "  Tipo Doc. Pre  No. Doc.  Orden/Lugar Entrega  ID Empresa Tipo de Factura  \\\n",
       "1   Factura  IT       2.0                  NaN        98.0     Electrónica   \n",
       "2   Factura  IT       1.0                  NaN        98.0  Por Computador   \n",
       "\n",
       "      Estado  ID. Cliente ID. Int. Cliente   ID Interno  \\\n",
       "1  Entregada  9.00227e+08      9.00227e+08  9.00227e+08   \n",
       "2  Entregada  9.00227e+08      9.00227e+08  9.00227e+08   \n",
       "\n",
       "               Nombre del Cliente     Año  Mes Fecha Exp.  \\\n",
       "1  Contact Center Colombia C3 SAS  2013.0  7.0 2013-07-19   \n",
       "2  Contact Center Colombia C3 SAS  2013.0  7.0 2013-07-16   \n",
       "\n",
       "    Fecha Hora Generación Moneda        Vendedor  Cód. Vendedor    SubTotal  \\\n",
       "1 2013-07-19 21:11:20.777    COP  Wilson Rojas P            NaN  11353185.0   \n",
       "2 2013-07-16 08:18:06.617    COP  Wilson Rojas P            NaN   3934750.0   \n",
       "\n",
       "         IVA  Descuento  Otros  Total Retención       Total  Total A Pagar  \\\n",
       "1  1816509.6        0.0    0.0              0.0  13169694.6            NaN   \n",
       "2   629560.0        0.0    0.0              0.0   4564310.0            NaN   \n",
       "\n",
       "        Ver     Ver.1 Estado Notificación     Teléfono  \\\n",
       "1  322065.0  322065.0                 NaN  4.86202e+06   \n",
       "2  320069.0  320069.0                 NaN  4.86202e+06   \n",
       "\n",
       "  Correos Electrónicos Cliente Correos Electrónicos Enviados  \n",
       "1       aduenas@c3colombia.com                           NaN  \n",
       "2       aduenas@c3colombia.com                           NaN  "
      ]
     },
     "execution_count": 40,
     "metadata": {},
     "output_type": "execute_result"
    }
   ],
   "source": [
    "facturacion_total.head(2)"
   ]
  },
  {
   "cell_type": "code",
   "execution_count": 41,
   "metadata": {},
   "outputs": [
    {
     "data": {
      "text/plain": [
       "array(['Entregada', 'Aceptada', 'Creada', 'Modificada'], dtype=object)"
      ]
     },
     "execution_count": 41,
     "metadata": {},
     "output_type": "execute_result"
    }
   ],
   "source": [
    "facturacion_total.Estado.unique()"
   ]
  },
  {
   "cell_type": "code",
   "execution_count": 42,
   "metadata": {},
   "outputs": [],
   "source": [
    "facturacion_total['Fecha Exp.'] = facturacion_total['Fecha Exp.'].astype('str')\n",
    "facturacion_total['año_facturado'] = facturacion_total['Fecha Exp.'].str.split('-').str.get(0)"
   ]
  },
  {
   "cell_type": "code",
   "execution_count": 43,
   "metadata": {},
   "outputs": [],
   "source": [
    "fact_cliente_fecha= facturacion_total.groupby(['Correos Electrónicos Cliente','año_facturado'])['SubTotal'].sum().reset_index()"
   ]
  },
  {
   "cell_type": "code",
   "execution_count": 44,
   "metadata": {},
   "outputs": [
    {
     "data": {
      "text/html": [
       "<div>\n",
       "<style scoped>\n",
       "    .dataframe tbody tr th:only-of-type {\n",
       "        vertical-align: middle;\n",
       "    }\n",
       "\n",
       "    .dataframe tbody tr th {\n",
       "        vertical-align: top;\n",
       "    }\n",
       "\n",
       "    .dataframe thead th {\n",
       "        text-align: right;\n",
       "    }\n",
       "</style>\n",
       "<table border=\"1\" class=\"dataframe\">\n",
       "  <thead>\n",
       "    <tr style=\"text-align: right;\">\n",
       "      <th></th>\n",
       "      <th>Correos Electrónicos Cliente</th>\n",
       "      <th>año_facturado</th>\n",
       "      <th>SubTotal</th>\n",
       "    </tr>\n",
       "  </thead>\n",
       "  <tbody>\n",
       "    <tr>\n",
       "      <th>0</th>\n",
       "      <td>Andreaayubirealtor@gmail.com</td>\n",
       "      <td>2017</td>\n",
       "      <td>111001.0</td>\n",
       "    </tr>\n",
       "    <tr>\n",
       "      <th>1</th>\n",
       "      <td>CUESTARAUL@HOTMAIL.COM</td>\n",
       "      <td>2017</td>\n",
       "      <td>100000.0</td>\n",
       "    </tr>\n",
       "  </tbody>\n",
       "</table>\n",
       "</div>"
      ],
      "text/plain": [
       "   Correos Electrónicos Cliente año_facturado  SubTotal\n",
       "0  Andreaayubirealtor@gmail.com          2017  111001.0\n",
       "1        CUESTARAUL@HOTMAIL.COM          2017  100000.0"
      ]
     },
     "execution_count": 44,
     "metadata": {},
     "output_type": "execute_result"
    }
   ],
   "source": [
    "fact_cliente_fecha.head(2)"
   ]
  },
  {
   "cell_type": "code",
   "execution_count": 45,
   "metadata": {},
   "outputs": [
    {
     "data": {
      "text/html": [
       "<div>\n",
       "<style scoped>\n",
       "    .dataframe tbody tr th:only-of-type {\n",
       "        vertical-align: middle;\n",
       "    }\n",
       "\n",
       "    .dataframe tbody tr th {\n",
       "        vertical-align: top;\n",
       "    }\n",
       "\n",
       "    .dataframe thead th {\n",
       "        text-align: right;\n",
       "    }\n",
       "</style>\n",
       "<table border=\"1\" class=\"dataframe\">\n",
       "  <thead>\n",
       "    <tr style=\"text-align: right;\">\n",
       "      <th></th>\n",
       "      <th>Correos Electrónicos Cliente</th>\n",
       "      <th>año_facturado</th>\n",
       "      <th>SubTotal</th>\n",
       "    </tr>\n",
       "  </thead>\n",
       "  <tbody>\n",
       "    <tr>\n",
       "      <th>697</th>\n",
       "      <td>txcloudsas@gmail.com</td>\n",
       "      <td>2015</td>\n",
       "      <td>862000.0</td>\n",
       "    </tr>\n",
       "    <tr>\n",
       "      <th>698</th>\n",
       "      <td>txcloudsas@gmail.com</td>\n",
       "      <td>2016</td>\n",
       "      <td>110344.0</td>\n",
       "    </tr>\n",
       "  </tbody>\n",
       "</table>\n",
       "</div>"
      ],
      "text/plain": [
       "    Correos Electrónicos Cliente año_facturado  SubTotal\n",
       "697         txcloudsas@gmail.com          2015  862000.0\n",
       "698         txcloudsas@gmail.com          2016  110344.0"
      ]
     },
     "execution_count": 45,
     "metadata": {},
     "output_type": "execute_result"
    }
   ],
   "source": [
    "#Ejemplo de como va la agrupacion de la facturacion para algun cliente particular\n",
    "fact_cliente_fecha.loc[(fact_cliente_fecha['Correos Electrónicos Cliente'] =='txcloudsas@gmail.com')]"
   ]
  },
  {
   "cell_type": "markdown",
   "metadata": {},
   "source": [
    "###### Se consolida las 3 fuentes\n",
    "#Facturacion_por_cliente\n",
    "#crm_clientes\n",
    "#crm_eventos"
   ]
  },
  {
   "cell_type": "code",
   "execution_count": 46,
   "metadata": {},
   "outputs": [
    {
     "data": {
      "text/html": [
       "<div>\n",
       "<style scoped>\n",
       "    .dataframe tbody tr th:only-of-type {\n",
       "        vertical-align: middle;\n",
       "    }\n",
       "\n",
       "    .dataframe tbody tr th {\n",
       "        vertical-align: top;\n",
       "    }\n",
       "\n",
       "    .dataframe thead th {\n",
       "        text-align: right;\n",
       "    }\n",
       "</style>\n",
       "<table border=\"1\" class=\"dataframe\">\n",
       "  <thead>\n",
       "    <tr style=\"text-align: right;\">\n",
       "      <th></th>\n",
       "      <th>id_interno</th>\n",
       "      <th>fecha_1</th>\n",
       "      <th>fecha_2</th>\n",
       "      <th>Comentario</th>\n",
       "      <th>estado_0_1</th>\n",
       "      <th>asesor</th>\n",
       "      <th>ip</th>\n",
       "    </tr>\n",
       "  </thead>\n",
       "  <tbody>\n",
       "    <tr>\n",
       "      <th>0</th>\n",
       "      <td>1</td>\n",
       "      <td>2014-11-24 05:23:07</td>\n",
       "      <td>2014-11-24 13:00:00</td>\n",
       "      <td>Registro inicial</td>\n",
       "      <td>1</td>\n",
       "      <td>wrojas</td>\n",
       "      <td>201.184.139.12</td>\n",
       "    </tr>\n",
       "    <tr>\n",
       "      <th>1</th>\n",
       "      <td>2</td>\n",
       "      <td>2014-11-24 05:28:08</td>\n",
       "      <td>2014-11-24 13:00:00</td>\n",
       "      <td>Registro inicial</td>\n",
       "      <td>1</td>\n",
       "      <td>wrojas</td>\n",
       "      <td>201.184.139.12</td>\n",
       "    </tr>\n",
       "  </tbody>\n",
       "</table>\n",
       "</div>"
      ],
      "text/plain": [
       "   id_interno             fecha_1             fecha_2        Comentario  \\\n",
       "0           1 2014-11-24 05:23:07 2014-11-24 13:00:00  Registro inicial   \n",
       "1           2 2014-11-24 05:28:08 2014-11-24 13:00:00  Registro inicial   \n",
       "\n",
       "   estado_0_1  asesor              ip  \n",
       "0           1  wrojas  201.184.139.12  \n",
       "1           1  wrojas  201.184.139.12  "
      ]
     },
     "execution_count": 46,
     "metadata": {},
     "output_type": "execute_result"
    }
   ],
   "source": [
    "crm_eventos.head(2)"
   ]
  },
  {
   "cell_type": "code",
   "execution_count": 47,
   "metadata": {},
   "outputs": [],
   "source": [
    "eventos_por_cliente= crm_eventos.groupby('id_interno')['fecha_1'].count().reset_index()\n",
    "eventos_por_cliente=eventos_por_cliente.rename(columns = {'fecha_1':'numero_iteraciones'})"
   ]
  },
  {
   "cell_type": "code",
   "execution_count": 48,
   "metadata": {},
   "outputs": [
    {
     "data": {
      "text/html": [
       "<div>\n",
       "<style scoped>\n",
       "    .dataframe tbody tr th:only-of-type {\n",
       "        vertical-align: middle;\n",
       "    }\n",
       "\n",
       "    .dataframe tbody tr th {\n",
       "        vertical-align: top;\n",
       "    }\n",
       "\n",
       "    .dataframe thead th {\n",
       "        text-align: right;\n",
       "    }\n",
       "</style>\n",
       "<table border=\"1\" class=\"dataframe\">\n",
       "  <thead>\n",
       "    <tr style=\"text-align: right;\">\n",
       "      <th></th>\n",
       "      <th>id_interno</th>\n",
       "      <th>numero_iteraciones</th>\n",
       "    </tr>\n",
       "  </thead>\n",
       "  <tbody>\n",
       "    <tr>\n",
       "      <th>652</th>\n",
       "      <td>653</td>\n",
       "      <td>69</td>\n",
       "    </tr>\n",
       "  </tbody>\n",
       "</table>\n",
       "</div>"
      ],
      "text/plain": [
       "     id_interno  numero_iteraciones\n",
       "652         653                  69"
      ]
     },
     "execution_count": 48,
     "metadata": {},
     "output_type": "execute_result"
    }
   ],
   "source": [
    "#Ejemplo de prueba\n",
    "eventos_por_cliente.loc[(eventos_por_cliente['id_interno'] ==653)]"
   ]
  },
  {
   "cell_type": "code",
   "execution_count": 49,
   "metadata": {},
   "outputs": [
    {
     "data": {
      "text/html": [
       "<div>\n",
       "<style scoped>\n",
       "    .dataframe tbody tr th:only-of-type {\n",
       "        vertical-align: middle;\n",
       "    }\n",
       "\n",
       "    .dataframe tbody tr th {\n",
       "        vertical-align: top;\n",
       "    }\n",
       "\n",
       "    .dataframe thead th {\n",
       "        text-align: right;\n",
       "    }\n",
       "</style>\n",
       "<table border=\"1\" class=\"dataframe\">\n",
       "  <thead>\n",
       "    <tr style=\"text-align: right;\">\n",
       "      <th></th>\n",
       "      <th>Tipo Doc.</th>\n",
       "      <th>Pre</th>\n",
       "      <th>No. Doc.</th>\n",
       "      <th>Orden/Lugar Entrega</th>\n",
       "      <th>ID Empresa</th>\n",
       "      <th>Tipo de Factura</th>\n",
       "      <th>Estado</th>\n",
       "      <th>ID. Cliente</th>\n",
       "      <th>ID. Int. Cliente</th>\n",
       "      <th>ID Interno</th>\n",
       "      <th>Nombre del Cliente</th>\n",
       "      <th>Año</th>\n",
       "      <th>Mes</th>\n",
       "      <th>Fecha Exp.</th>\n",
       "      <th>Fecha Hora Generación</th>\n",
       "      <th>Moneda</th>\n",
       "      <th>Vendedor</th>\n",
       "      <th>Cód. Vendedor</th>\n",
       "      <th>SubTotal</th>\n",
       "      <th>IVA</th>\n",
       "      <th>Descuento</th>\n",
       "      <th>Otros</th>\n",
       "      <th>Total Retención</th>\n",
       "      <th>Total</th>\n",
       "      <th>Total A Pagar</th>\n",
       "      <th>Ver</th>\n",
       "      <th>Ver.1</th>\n",
       "      <th>Estado Notificación</th>\n",
       "      <th>Teléfono</th>\n",
       "      <th>Correos Electrónicos Cliente</th>\n",
       "      <th>Correos Electrónicos Enviados</th>\n",
       "      <th>año_facturado</th>\n",
       "    </tr>\n",
       "  </thead>\n",
       "  <tbody>\n",
       "    <tr>\n",
       "      <th>58</th>\n",
       "      <td>Factura</td>\n",
       "      <td>IT</td>\n",
       "      <td>1128.0</td>\n",
       "      <td>NaN</td>\n",
       "      <td>98.0</td>\n",
       "      <td>Por Computador</td>\n",
       "      <td>Entregada</td>\n",
       "      <td>900677974</td>\n",
       "      <td>900677974</td>\n",
       "      <td>900677974</td>\n",
       "      <td>TXCLOUD</td>\n",
       "      <td>2015.0</td>\n",
       "      <td>10.0</td>\n",
       "      <td>2015-10-25</td>\n",
       "      <td>2015-10-25 11:42:02.663</td>\n",
       "      <td>COP</td>\n",
       "      <td>Indefinido</td>\n",
       "      <td>NaN</td>\n",
       "      <td>862000.0</td>\n",
       "      <td>137920.00</td>\n",
       "      <td>0.0</td>\n",
       "      <td>0.0</td>\n",
       "      <td>0.0</td>\n",
       "      <td>999920.00</td>\n",
       "      <td>NaN</td>\n",
       "      <td>1092612.0</td>\n",
       "      <td>1092612.0</td>\n",
       "      <td>NaN</td>\n",
       "      <td>2394553</td>\n",
       "      <td>txcloudsas@gmail.com</td>\n",
       "      <td>txcloudsas@gmail.com</td>\n",
       "      <td>2015</td>\n",
       "    </tr>\n",
       "    <tr>\n",
       "      <th>66</th>\n",
       "      <td>Factura</td>\n",
       "      <td>IT</td>\n",
       "      <td>1714.0</td>\n",
       "      <td>NaN</td>\n",
       "      <td>98.0</td>\n",
       "      <td>Por Computador</td>\n",
       "      <td>Creada</td>\n",
       "      <td>900677974</td>\n",
       "      <td>900677974</td>\n",
       "      <td>NaN</td>\n",
       "      <td>TXCLOUD</td>\n",
       "      <td>2016.0</td>\n",
       "      <td>6.0</td>\n",
       "      <td>2016-06-07</td>\n",
       "      <td>2016-06-07 08:43:15.923</td>\n",
       "      <td>COP</td>\n",
       "      <td>Indefinido</td>\n",
       "      <td>NaN</td>\n",
       "      <td>110344.0</td>\n",
       "      <td>17655.04</td>\n",
       "      <td>0.0</td>\n",
       "      <td>0.0</td>\n",
       "      <td>0.0</td>\n",
       "      <td>127999.04</td>\n",
       "      <td>127999.04</td>\n",
       "      <td>1589444.0</td>\n",
       "      <td>1589444.0</td>\n",
       "      <td>NaN</td>\n",
       "      <td>2.39455e+06</td>\n",
       "      <td>txcloudsas@gmail.com</td>\n",
       "      <td>txcloudsas@gmail.com</td>\n",
       "      <td>2016</td>\n",
       "    </tr>\n",
       "  </tbody>\n",
       "</table>\n",
       "</div>"
      ],
      "text/plain": [
       "   Tipo Doc. Pre  No. Doc.  Orden/Lugar Entrega  ID Empresa Tipo de Factura  \\\n",
       "58   Factura  IT    1128.0                  NaN        98.0  Por Computador   \n",
       "66   Factura  IT    1714.0                  NaN        98.0  Por Computador   \n",
       "\n",
       "       Estado ID. Cliente ID. Int. Cliente ID Interno Nombre del Cliente  \\\n",
       "58  Entregada   900677974        900677974  900677974            TXCLOUD   \n",
       "66     Creada   900677974        900677974        NaN            TXCLOUD   \n",
       "\n",
       "       Año   Mes  Fecha Exp.   Fecha Hora Generación Moneda    Vendedor  \\\n",
       "58  2015.0  10.0  2015-10-25 2015-10-25 11:42:02.663    COP  Indefinido   \n",
       "66  2016.0   6.0  2016-06-07 2016-06-07 08:43:15.923    COP  Indefinido   \n",
       "\n",
       "    Cód. Vendedor  SubTotal        IVA  Descuento  Otros  Total Retención  \\\n",
       "58            NaN  862000.0  137920.00        0.0    0.0              0.0   \n",
       "66            NaN  110344.0   17655.04        0.0    0.0              0.0   \n",
       "\n",
       "        Total  Total A Pagar        Ver      Ver.1 Estado Notificación  \\\n",
       "58  999920.00            NaN  1092612.0  1092612.0                 NaN   \n",
       "66  127999.04      127999.04  1589444.0  1589444.0                 NaN   \n",
       "\n",
       "       Teléfono Correos Electrónicos Cliente Correos Electrónicos Enviados  \\\n",
       "58      2394553         txcloudsas@gmail.com          txcloudsas@gmail.com   \n",
       "66  2.39455e+06         txcloudsas@gmail.com          txcloudsas@gmail.com   \n",
       "\n",
       "   año_facturado  \n",
       "58          2015  \n",
       "66          2016  "
      ]
     },
     "execution_count": 49,
     "metadata": {},
     "output_type": "execute_result"
    }
   ],
   "source": [
    "#Ejemplo de prueba \n",
    "facturacion_total.loc[(facturacion_total['Correos Electrónicos Cliente'] =='txcloudsas@gmail.com')]"
   ]
  },
  {
   "cell_type": "code",
   "execution_count": 50,
   "metadata": {},
   "outputs": [
    {
     "data": {
      "text/plain": [
       "(3717, 32)"
      ]
     },
     "execution_count": 50,
     "metadata": {},
     "output_type": "execute_result"
    }
   ],
   "source": [
    "facturacion_total.loc[(facturacion_total['Moneda'] ==\"COP\")].shape"
   ]
  },
  {
   "cell_type": "code",
   "execution_count": 51,
   "metadata": {},
   "outputs": [
    {
     "data": {
      "text/html": [
       "<div>\n",
       "<style scoped>\n",
       "    .dataframe tbody tr th:only-of-type {\n",
       "        vertical-align: middle;\n",
       "    }\n",
       "\n",
       "    .dataframe tbody tr th {\n",
       "        vertical-align: top;\n",
       "    }\n",
       "\n",
       "    .dataframe thead th {\n",
       "        text-align: right;\n",
       "    }\n",
       "</style>\n",
       "<table border=\"1\" class=\"dataframe\">\n",
       "  <thead>\n",
       "    <tr style=\"text-align: right;\">\n",
       "      <th></th>\n",
       "      <th>id</th>\n",
       "      <th>TipoUsuario</th>\n",
       "      <th>Prioridad</th>\n",
       "      <th>producto</th>\n",
       "      <th>nombre</th>\n",
       "      <th>empresa</th>\n",
       "      <th>Sector</th>\n",
       "      <th>ciudad</th>\n",
       "      <th>correo</th>\n",
       "      <th>correo.1</th>\n",
       "      <th>correo2</th>\n",
       "      <th>correoItcloud</th>\n",
       "      <th>corre</th>\n",
       "      <th>correo.2</th>\n",
       "      <th>Comentario inicial del cliente</th>\n",
       "      <th>Negociacion</th>\n",
       "      <th>Tipo Cotizacion a enviar</th>\n",
       "      <th>comercial</th>\n",
       "      <th>ip</th>\n",
       "      <th>navegador</th>\n",
       "      <th>Fecha creacion</th>\n",
       "      <th>estado</th>\n",
       "      <th>longitud</th>\n",
       "    </tr>\n",
       "  </thead>\n",
       "  <tbody>\n",
       "    <tr>\n",
       "      <th>656</th>\n",
       "      <td>653</td>\n",
       "      <td>Usuario_Final</td>\n",
       "      <td>2_Alta</td>\n",
       "      <td>Sms_Salida</td>\n",
       "      <td>LUIS MIGUEL ROZO FUENTES</td>\n",
       "      <td>0</td>\n",
       "      <td>NaN</td>\n",
       "      <td>OTROS</td>\n",
       "      <td>0</td>\n",
       "      <td>txcloudsas@gmail.com</td>\n",
       "      <td>0</td>\n",
       "      <td>txcloudsas@gmail.com</td>\n",
       "      <td>0</td>\n",
       "      <td>0</td>\n",
       "      <td>creo la cuenta                                ...</td>\n",
       "      <td></td>\n",
       "      <td>SMS_Correo_CON_Precio</td>\n",
       "      <td>fpineda</td>\n",
       "      <td>181.50.27.46</td>\n",
       "      <td>Mozilla</td>\n",
       "      <td>2015-08-21 17:13:17</td>\n",
       "      <td>en_proceso_Con_Venta</td>\n",
       "      <td>20</td>\n",
       "    </tr>\n",
       "  </tbody>\n",
       "</table>\n",
       "</div>"
      ],
      "text/plain": [
       "      id    TipoUsuario Prioridad    producto                    nombre  \\\n",
       "656  653  Usuario_Final    2_Alta  Sms_Salida  LUIS MIGUEL ROZO FUENTES   \n",
       "\n",
       "    empresa  Sector ciudad  correo              correo.1 correo2  \\\n",
       "656       0     NaN  OTROS       0  txcloudsas@gmail.com       0   \n",
       "\n",
       "            correoItcloud corre correo.2  \\\n",
       "656  txcloudsas@gmail.com     0        0   \n",
       "\n",
       "                        Comentario inicial del cliente        Negociacion  \\\n",
       "656  creo la cuenta                                ...                      \n",
       "\n",
       "    Tipo Cotizacion a enviar comercial            ip navegador  \\\n",
       "656    SMS_Correo_CON_Precio   fpineda  181.50.27.46   Mozilla   \n",
       "\n",
       "        Fecha creacion                 estado  longitud  \n",
       "656 2015-08-21 17:13:17  en_proceso_Con_Venta        20  "
      ]
     },
     "execution_count": 51,
     "metadata": {},
     "output_type": "execute_result"
    }
   ],
   "source": [
    "crm_clientes.loc[(crm_clientes['correoItcloud'] =='txcloudsas@gmail.com')]"
   ]
  },
  {
   "cell_type": "markdown",
   "metadata": {},
   "source": [
    "##### Se unifican  las fuentes"
   ]
  },
  {
   "cell_type": "code",
   "execution_count": 52,
   "metadata": {},
   "outputs": [],
   "source": [
    "crm_fact_y_eventos =  pd.merge(crm_con_ventas, eventos_por_cliente, how='left', left_on=['id'],right_on=['id_interno'])"
   ]
  },
  {
   "cell_type": "code",
   "execution_count": 53,
   "metadata": {},
   "outputs": [
    {
     "name": "stdout",
     "output_type": "stream",
     "text": [
      "El total de clientes en crm_con_ventas es: 376\n",
      "El total de clientes con eventos es : 2880\n",
      "El total de dataset completo es: 376\n"
     ]
    }
   ],
   "source": [
    "#Se verifica las cantidades del merge\n",
    "print (\"El total de clientes en crm_con_ventas es: \", end=\"\")\n",
    "print (len(crm_con_ventas[\"id\"]))\n",
    "print (\"El total de clientes con eventos es : \", end=\"\")\n",
    "print (len(eventos_por_cliente[\"id_interno\"]))\n",
    "print (\"El total de dataset completo es: \", end=\"\")\n",
    "print (len(crm_fact_y_eventos[\"id\"]))"
   ]
  },
  {
   "cell_type": "code",
   "execution_count": 69,
   "metadata": {},
   "outputs": [
    {
     "name": "stdout",
     "output_type": "stream",
     "text": [
      "/home/xubuntu/Documents/ProyectoFinalMINE/Datos\n"
     ]
    }
   ],
   "source": [
    "#CUANDO EL SECTOR YA SE TIENE SE PUEDE UTILIZAR ESTE ARCHIVO\n",
    "%cd     /home/xubuntu/Documents/ProyectoFinalMINE/Datos/\n",
    "crm_fact_y_eventos.to_excel('clientes_con_facturacion_numero_eventos.xlsx')"
   ]
  },
  {
   "cell_type": "code",
   "execution_count": null,
   "metadata": {},
   "outputs": [],
   "source": []
  },
  {
   "cell_type": "markdown",
   "metadata": {},
   "source": [
    "## Se coloca el sector suministrado POR ItCloud, este archivo debe crearse por parte de it cloud pues este campo no existe en su CRM actual."
   ]
  },
  {
   "cell_type": "code",
   "execution_count": 58,
   "metadata": {},
   "outputs": [
    {
     "name": "stdout",
     "output_type": "stream",
     "text": [
      "/home/xubuntu/Documents/ProyectoFinalMINE/Datos\n"
     ]
    }
   ],
   "source": [
    "%cd     /home/xubuntu/Documents/ProyectoFinalMINE/Datos/\n",
    "sector_v1 = pd.read_excel('elsector.xlsx')"
   ]
  },
  {
   "cell_type": "code",
   "execution_count": 59,
   "metadata": {},
   "outputs": [
    {
     "data": {
      "text/html": [
       "<div>\n",
       "<style scoped>\n",
       "    .dataframe tbody tr th:only-of-type {\n",
       "        vertical-align: middle;\n",
       "    }\n",
       "\n",
       "    .dataframe tbody tr th {\n",
       "        vertical-align: top;\n",
       "    }\n",
       "\n",
       "    .dataframe thead th {\n",
       "        text-align: right;\n",
       "    }\n",
       "</style>\n",
       "<table border=\"1\" class=\"dataframe\">\n",
       "  <thead>\n",
       "    <tr style=\"text-align: right;\">\n",
       "      <th></th>\n",
       "      <th>Sector</th>\n",
       "      <th>correoItcloud</th>\n",
       "    </tr>\n",
       "  </thead>\n",
       "  <tbody>\n",
       "    <tr>\n",
       "      <th>0</th>\n",
       "      <td>Callcenter</td>\n",
       "      <td>aduenas@c3colombia.com</td>\n",
       "    </tr>\n",
       "    <tr>\n",
       "      <th>1</th>\n",
       "      <td>Distribuidor</td>\n",
       "      <td>javier.ortiz@negociosenlanube.co</td>\n",
       "    </tr>\n",
       "    <tr>\n",
       "      <th>2</th>\n",
       "      <td>Iglesia</td>\n",
       "      <td>contabilidad@iurd.com.co</td>\n",
       "    </tr>\n",
       "    <tr>\n",
       "      <th>3</th>\n",
       "      <td>Distribuidor</td>\n",
       "      <td>contacto@inmessage.co</td>\n",
       "    </tr>\n",
       "    <tr>\n",
       "      <th>4</th>\n",
       "      <td>Retail</td>\n",
       "      <td>social.manager@roottco.com</td>\n",
       "    </tr>\n",
       "  </tbody>\n",
       "</table>\n",
       "</div>"
      ],
      "text/plain": [
       "         Sector                     correoItcloud\n",
       "0    Callcenter            aduenas@c3colombia.com\n",
       "1  Distribuidor  javier.ortiz@negociosenlanube.co\n",
       "2       Iglesia          contabilidad@iurd.com.co\n",
       "3  Distribuidor             contacto@inmessage.co\n",
       "4        Retail        social.manager@roottco.com"
      ]
     },
     "execution_count": 59,
     "metadata": {},
     "output_type": "execute_result"
    }
   ],
   "source": [
    "sector_v1.head()"
   ]
  },
  {
   "cell_type": "code",
   "execution_count": 60,
   "metadata": {},
   "outputs": [
    {
     "data": {
      "text/plain": [
       "(376, 27)"
      ]
     },
     "execution_count": 60,
     "metadata": {},
     "output_type": "execute_result"
    }
   ],
   "source": [
    "crm_fact_y_eventos.shape"
   ]
  },
  {
   "cell_type": "code",
   "execution_count": 61,
   "metadata": {},
   "outputs": [
    {
     "data": {
      "text/plain": [
       "(378, 2)"
      ]
     },
     "execution_count": 61,
     "metadata": {},
     "output_type": "execute_result"
    }
   ],
   "source": [
    "sector_v1.shape"
   ]
  },
  {
   "cell_type": "code",
   "execution_count": 63,
   "metadata": {},
   "outputs": [],
   "source": [
    "cr_evento_sector =  pd.merge(crm_fact_y_eventos, sector_v1, how='left', left_on=['correoItcloud'],right_on=['correoItcloud'])"
   ]
  },
  {
   "cell_type": "code",
   "execution_count": 66,
   "metadata": {},
   "outputs": [
    {
     "data": {
      "text/html": [
       "<div>\n",
       "<style scoped>\n",
       "    .dataframe tbody tr th:only-of-type {\n",
       "        vertical-align: middle;\n",
       "    }\n",
       "\n",
       "    .dataframe tbody tr th {\n",
       "        vertical-align: top;\n",
       "    }\n",
       "\n",
       "    .dataframe thead th {\n",
       "        text-align: right;\n",
       "    }\n",
       "</style>\n",
       "<table border=\"1\" class=\"dataframe\">\n",
       "  <thead>\n",
       "    <tr style=\"text-align: right;\">\n",
       "      <th></th>\n",
       "      <th>id</th>\n",
       "      <th>TipoUsuario</th>\n",
       "      <th>Prioridad</th>\n",
       "      <th>producto</th>\n",
       "      <th>nombre</th>\n",
       "      <th>empresa</th>\n",
       "      <th>Sector_x</th>\n",
       "      <th>ciudad</th>\n",
       "      <th>correo</th>\n",
       "      <th>correo.1</th>\n",
       "      <th>correo2</th>\n",
       "      <th>correoItcloud</th>\n",
       "      <th>corre</th>\n",
       "      <th>correo.2</th>\n",
       "      <th>Comentario inicial del cliente</th>\n",
       "      <th>Negociacion</th>\n",
       "      <th>Tipo Cotizacion a enviar</th>\n",
       "      <th>comercial</th>\n",
       "      <th>ip</th>\n",
       "      <th>navegador</th>\n",
       "      <th>Fecha creacion</th>\n",
       "      <th>estado</th>\n",
       "      <th>longitud</th>\n",
       "      <th>Correos Electrónicos Cliente</th>\n",
       "      <th>SubTotal</th>\n",
       "      <th>id_interno</th>\n",
       "      <th>numero_iteraciones</th>\n",
       "      <th>Sector_y</th>\n",
       "      <th>solo_ciudad</th>\n",
       "    </tr>\n",
       "  </thead>\n",
       "  <tbody>\n",
       "    <tr>\n",
       "      <th>0</th>\n",
       "      <td>5</td>\n",
       "      <td>Usuario_Final</td>\n",
       "      <td>2_Alta</td>\n",
       "      <td>Sms_Salida</td>\n",
       "      <td>Lorena -3184633886</td>\n",
       "      <td>UB CUARENTA</td>\n",
       "      <td>NaN</td>\n",
       "      <td>Bogota</td>\n",
       "      <td>0</td>\n",
       "      <td>comunicacionvisual@cvr.com.co</td>\n",
       "      <td>0</td>\n",
       "      <td>gerencia@cvr.com.co</td>\n",
       "      <td>0</td>\n",
       "      <td>0</td>\n",
       "      <td>este cliente ya habia enviado..se renegocia pr...</td>\n",
       "      <td></td>\n",
       "      <td>SMS_Correo_CON_Precio</td>\n",
       "      <td>ccastellanos</td>\n",
       "      <td>200.47.156.195</td>\n",
       "      <td>Mozilla</td>\n",
       "      <td>2014-11-24 07:32:42</td>\n",
       "      <td>en_proceso_Con_Venta</td>\n",
       "      <td>19</td>\n",
       "      <td>gerencia@cvr.com.co</td>\n",
       "      <td>1431032.0</td>\n",
       "      <td>5</td>\n",
       "      <td>62</td>\n",
       "      <td>Retail</td>\n",
       "      <td>Bogota</td>\n",
       "    </tr>\n",
       "    <tr>\n",
       "      <th>1</th>\n",
       "      <td>14</td>\n",
       "      <td>Usuario_Final</td>\n",
       "      <td>2_Alta</td>\n",
       "      <td>Sms_Salida</td>\n",
       "      <td>Yurani Amesquita O  HEIDY MILENA ORTIZ DIAZ **</td>\n",
       "      <td>COMFAMILIAR HUILA</td>\n",
       "      <td>NaN</td>\n",
       "      <td>Neiva</td>\n",
       "      <td>0</td>\n",
       "      <td>callcenter@comfamiliarhuila.com</td>\n",
       "      <td>heidymilenaortiz@gmail.com</td>\n",
       "      <td>ly1329@hotmail.com</td>\n",
       "      <td>0</td>\n",
       "      <td>0</td>\n",
       "      <td>A estos correos se envia el certificadode segu...</td>\n",
       "      <td>SMS A $25  negociado con     Yurani           ...</td>\n",
       "      <td>No_Enviar_Mail</td>\n",
       "      <td>mpineda</td>\n",
       "      <td>200.47.156.195</td>\n",
       "      <td>Mozilla</td>\n",
       "      <td>2014-11-24 08:16:32</td>\n",
       "      <td>en_proceso_Con_Venta</td>\n",
       "      <td>18</td>\n",
       "      <td>ly1329@hotmail.com</td>\n",
       "      <td>22977190.0</td>\n",
       "      <td>14</td>\n",
       "      <td>207</td>\n",
       "      <td>Cooperativa</td>\n",
       "      <td>Neiva</td>\n",
       "    </tr>\n",
       "    <tr>\n",
       "      <th>2</th>\n",
       "      <td>15</td>\n",
       "      <td>Usuario_Final</td>\n",
       "      <td>1_SuperAlta</td>\n",
       "      <td>Sms_Salida</td>\n",
       "      <td>Saulo Rincon -Stefanny Hernandez</td>\n",
       "      <td>UNIVERSIDAD INCA</td>\n",
       "      <td>NaN</td>\n",
       "      <td>Bogota</td>\n",
       "      <td>0</td>\n",
       "      <td>mercadeo@unincca.edu.co</td>\n",
       "      <td>sarib29@hotmail.com</td>\n",
       "      <td>mercadeo@unincca.edu.co</td>\n",
       "      <td>0</td>\n",
       "      <td>0</td>\n",
       "      <td>Por favor requerimos informaciÃƒÂ³n de los pro...</td>\n",
       "      <td>$16 mas iva</td>\n",
       "      <td>SMS_Correo_CON_Precio</td>\n",
       "      <td>fpineda</td>\n",
       "      <td>200.47.156.195</td>\n",
       "      <td>Mozilla</td>\n",
       "      <td>2014-11-24 08:24:41</td>\n",
       "      <td>en_proceso_Con_Venta</td>\n",
       "      <td>23</td>\n",
       "      <td>mercadeo@unincca.edu.co</td>\n",
       "      <td>1007200.0</td>\n",
       "      <td>15</td>\n",
       "      <td>92</td>\n",
       "      <td>Universidad</td>\n",
       "      <td>Bogota</td>\n",
       "    </tr>\n",
       "  </tbody>\n",
       "</table>\n",
       "</div>"
      ],
      "text/plain": [
       "   id    TipoUsuario    Prioridad    producto  \\\n",
       "0   5  Usuario_Final       2_Alta  Sms_Salida   \n",
       "1  14  Usuario_Final       2_Alta  Sms_Salida   \n",
       "2  15  Usuario_Final  1_SuperAlta  Sms_Salida   \n",
       "\n",
       "                                           nombre            empresa  \\\n",
       "0                              Lorena -3184633886        UB CUARENTA   \n",
       "1  Yurani Amesquita O  HEIDY MILENA ORTIZ DIAZ **  COMFAMILIAR HUILA   \n",
       "2                Saulo Rincon -Stefanny Hernandez   UNIVERSIDAD INCA   \n",
       "\n",
       "   Sector_x  ciudad  correo                         correo.1  \\\n",
       "0       NaN  Bogota       0    comunicacionvisual@cvr.com.co   \n",
       "1       NaN   Neiva       0  callcenter@comfamiliarhuila.com   \n",
       "2       NaN  Bogota       0          mercadeo@unincca.edu.co   \n",
       "\n",
       "                      correo2            correoItcloud corre correo.2  \\\n",
       "0                           0      gerencia@cvr.com.co     0        0   \n",
       "1  heidymilenaortiz@gmail.com       ly1329@hotmail.com     0        0   \n",
       "2         sarib29@hotmail.com  mercadeo@unincca.edu.co     0        0   \n",
       "\n",
       "                      Comentario inicial del cliente  \\\n",
       "0  este cliente ya habia enviado..se renegocia pr...   \n",
       "1  A estos correos se envia el certificadode segu...   \n",
       "2  Por favor requerimos informaciÃƒÂ³n de los pro...   \n",
       "\n",
       "                                         Negociacion Tipo Cotizacion a enviar  \\\n",
       "0                                                       SMS_Correo_CON_Precio   \n",
       "1  SMS A $25  negociado con     Yurani           ...           No_Enviar_Mail   \n",
       "2                        $16 mas iva                    SMS_Correo_CON_Precio   \n",
       "\n",
       "      comercial              ip navegador     Fecha creacion   \\\n",
       "0  ccastellanos  200.47.156.195   Mozilla 2014-11-24 07:32:42   \n",
       "1       mpineda  200.47.156.195   Mozilla 2014-11-24 08:16:32   \n",
       "2       fpineda  200.47.156.195   Mozilla 2014-11-24 08:24:41   \n",
       "\n",
       "                 estado  longitud Correos Electrónicos Cliente    SubTotal  \\\n",
       "0  en_proceso_Con_Venta        19          gerencia@cvr.com.co   1431032.0   \n",
       "1  en_proceso_Con_Venta        18           ly1329@hotmail.com  22977190.0   \n",
       "2  en_proceso_Con_Venta        23      mercadeo@unincca.edu.co   1007200.0   \n",
       "\n",
       "   id_interno  numero_iteraciones     Sector_y solo_ciudad  \n",
       "0           5                  62       Retail      Bogota  \n",
       "1          14                 207  Cooperativa       Neiva  \n",
       "2          15                  92  Universidad      Bogota  "
      ]
     },
     "execution_count": 66,
     "metadata": {},
     "output_type": "execute_result"
    }
   ],
   "source": [
    "cr_evento_sector.head(3)"
   ]
  },
  {
   "cell_type": "code",
   "execution_count": 65,
   "metadata": {},
   "outputs": [],
   "source": [
    "cr_evento_sector['solo_ciudad'] =cr_evento_sector['ciudad'].str.split('-').str.get(0) "
   ]
  },
  {
   "cell_type": "code",
   "execution_count": 67,
   "metadata": {},
   "outputs": [
    {
     "data": {
      "text/plain": [
       "array(['Bogota', 'Neiva', 'Otra', 'Barranquilla', 'Bucaramanga',\n",
       "       'Medellin', 'barrancabermeja', 'Cali', 'OTROS', 'Barranquilla ',\n",
       "       'Pereira', 'OTROS ', 'Tunja', 'Medellin ', 'Manizales ', 'Cucuta',\n",
       "       'Manizales', 'Ibague ', 'Cali ', 'Cartagena', 'Ibague', 'Bogota ',\n",
       "       'Armenia', 'Bucaramanga ', 'Villavicencio', 'Santa Marta',\n",
       "       'Cucuta ', 'Cartagena ', 'Villavicencio '], dtype=object)"
      ]
     },
     "execution_count": 67,
     "metadata": {},
     "output_type": "execute_result"
    }
   ],
   "source": [
    "cr_evento_sector.solo_ciudad.unique()"
   ]
  },
  {
   "cell_type": "code",
   "execution_count": null,
   "metadata": {
    "collapsed": true
   },
   "outputs": [],
   "source": []
  },
  {
   "cell_type": "markdown",
   "metadata": {},
   "source": [
    "## Se exporta el archivo final con el que se trabajara "
   ]
  },
  {
   "cell_type": "code",
   "execution_count": 68,
   "metadata": {},
   "outputs": [
    {
     "name": "stdout",
     "output_type": "stream",
     "text": [
      "/home/xubuntu/Documents/ProyectoFinalMINE/Datos\n"
     ]
    }
   ],
   "source": [
    "%cd     /home/xubuntu/Documents/ProyectoFinalMINE/Datos/\n",
    "cr_evento_sector.to_excel(\"cliente_con_ventas_sector_eventos.xlsx\")"
   ]
  },
  {
   "cell_type": "code",
   "execution_count": null,
   "metadata": {
    "collapsed": true
   },
   "outputs": [],
   "source": []
  }
 ],
 "metadata": {
  "kernelspec": {
   "display_name": "Python 3",
   "language": "python",
   "name": "python3"
  },
  "language_info": {
   "codemirror_mode": {
    "name": "ipython",
    "version": 3
   },
   "file_extension": ".py",
   "mimetype": "text/x-python",
   "name": "python",
   "nbconvert_exporter": "python",
   "pygments_lexer": "ipython3",
   "version": "3.6.4"
  }
 },
 "nbformat": 4,
 "nbformat_minor": 2
}
